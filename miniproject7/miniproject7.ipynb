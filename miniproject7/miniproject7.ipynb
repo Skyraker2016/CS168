{
 "cells": [
  {
   "cell_type": "code",
   "execution_count": 1,
   "metadata": {},
   "outputs": [],
   "source": [
    "import numpy as np\n",
    "import matplotlib.pyplot as plt"
   ]
  },
  {
   "cell_type": "markdown",
   "metadata": {},
   "source": [
    "# Part 1"
   ]
  },
  {
   "cell_type": "markdown",
   "metadata": {},
   "source": [
    "(a)"
   ]
  },
  {
   "cell_type": "markdown",
   "metadata": {},
   "source": [
    "Since all of three graph are undirected graphs. They are obviously irreducible. However, graph 1 is aperiodic since when $X_0 = 1, X_t = 3$ we can find that $\\text{gcd}(t_1, t_2,...) = 2$ since we can reach it when $t = 2 + 2 k_1 + 10  k_2$ where $k_1$ refers to backward and forward times and $k_2$ refers to the number that walk through the whole circle. On the other hand, graph 2 is aperiodic because we can reach any note  after walking through a circle(We get $t = 9$). Then $t$ could be an odd number. If we walk backwawrd and forward, we can get $2 k_1$ time. We can find $t_1 = m, t_n = m + 2 k_1 + 9k_2$ that satisfies $gcd(t_1, t_n) = 1$ where $m$ refers to the time to reach that node directly. Therefore, $\\text{gcd}(t_1, t_2,...) = 1$. Graph 3 is aperiodic since we can always find $t_1 = m, t_n = m + 2 k_1 + 9k_2 + 4 k_3$ that satisfies $gcd(t_1, t_n) = 1$ where $m$ refers to the time to reach that node directly and $k_3$ refers to the pure times of walking from node 1 to node 5."
   ]
  },
  {
   "cell_type": "markdown",
   "metadata": {},
   "source": [
    "(b)"
   ]
  },
  {
   "cell_type": "code",
   "execution_count": 2,
   "metadata": {},
   "outputs": [],
   "source": [
    "def CreateP1():\n",
    "    P = np.zeros((10,10))\n",
    "    for i in range(10):\n",
    "        P[i][i-1] = P[i][(i+1)%10] = 0.5\n",
    "    return P\n",
    "\n",
    "def CreateP2():\n",
    "    P = np.zeros((9,9))\n",
    "    for i in range(9):\n",
    "        P[i][i-1] = P[i][(i+1)%9] = 0.5\n",
    "    return P\n",
    "\n",
    "def CreateP3():\n",
    "    P = np.zeros((9,9))\n",
    "    for i in range(9):\n",
    "        P[i][i-1] = P[i][(i+1)%9] = 0.5\n",
    "    P[0][4] = P[0][1] = P[0][-1] = 1/3\n",
    "    P[4][0] = P[4][3] = P[4][5] = 1/3\n",
    "    return P\n",
    "\n",
    "def GetInitalState(num_state):\n",
    "    D = np.zeros((1, num_state))\n",
    "    D[0][0] = 1\n",
    "    return D\n",
    "\n",
    "def GetTV(D, PI):\n",
    "    return 0.5 * np.sum(np.abs(D-PI))\n",
    "\n",
    "# use pow iteration algorithm to get PI\n",
    "def GetPI2():\n",
    "    D2 = GetInitalState(9)\n",
    "    P2 = CreateP2()\n",
    "    for _ in range(10):\n",
    "        P2 = P2 @ P2\n",
    "    return D2 @ P2\n",
    "\n",
    "\n",
    "def GetPI3():\n",
    "    D3 = GetInitalState(9)\n",
    "    P3 = CreateP3()\n",
    "    for _ in range(10):\n",
    "        P3 = P3 @ P3\n",
    "    return D3 @ P3"
   ]
  },
  {
   "cell_type": "code",
   "execution_count": 3,
   "metadata": {},
   "outputs": [],
   "source": [
    "D1 = GetInitalState(10)\n",
    "P1 = CreateP1()\n",
    "PI1 = np.ones((1,10)) / 10\n",
    "\n",
    "D2 = GetInitalState(9)\n",
    "P2 = CreateP2()\n",
    "PI2 = GetPI2()\n",
    "\n",
    "D3 = GetInitalState(9)\n",
    "P3 = CreateP3()\n",
    "PI3 = GetPI3()"
   ]
  },
  {
   "cell_type": "code",
   "execution_count": 4,
   "metadata": {},
   "outputs": [
    {
     "data": {
      "image/png": "[encoded data removed]",
      "text/plain": [
       "<matplotlib.figure.Figure at 0x7f1272828fd0>"
      ]
     },
     "metadata": {},
     "output_type": "display_data"
    }
   ],
   "source": [
    "DT = np.zeros((101,3))\n",
    "\n",
    "for t in range(101):\n",
    "    DT[t][0] = GetTV(D1, PI1)\n",
    "    DT[t][1] = GetTV(D2, PI2)\n",
    "    DT[t][2] = GetTV(D3, PI3)\n",
    "    D1 = D1 @ P1\n",
    "    D2 = D2 @ P2\n",
    "    D3 = D3 @ P3\n",
    "    \n",
    "T = np.arange(0,101)\n",
    "\n",
    "plt.plot(T,DT[:,0])\n",
    "plt.plot(T,DT[:,1])\n",
    "plt.plot(T,DT[:,2])\n",
    "plt.legend(['graph1', 'graph2', 'graph3'])\n",
    "plt.show();"
   ]
  },
  {
   "cell_type": "markdown",
   "metadata": {},
   "source": [
    "(c)"
   ]
  },
  {
   "cell_type": "code",
   "execution_count": 5,
   "metadata": {},
   "outputs": [
    {
     "name": "stdout",
     "output_type": "stream",
     "text": [
      "the second largest eigenvalue of the trainsition matrix\n",
      "graph1 = 1.000000\n",
      "graph2 = 0.883022\n",
      "graph3 = 0.939282\n"
     ]
    }
   ],
   "source": [
    "U1,S1,VT1 = np.linalg.svd(P1)\n",
    "U2,S2,VT2 = np.linalg.svd(P2)\n",
    "U3,S3,VT3 = np.linalg.svd(P3)\n",
    "print('the second largest eigenvalue of the trainsition matrix')\n",
    "print('graph1 = %6f'%S1[1]**2)\n",
    "print('graph2 = %6f'%S2[1]**2)\n",
    "print('graph3 = %6f'%S3[1]**2)"
   ]
  },
  {
   "cell_type": "markdown",
   "metadata": {},
   "source": [
    "(d)"
   ]
  },
  {
   "cell_type": "markdown",
   "metadata": {},
   "source": [
    "From (b), we can find that DV of graph2 and graph3 converge to zero while DV of graph1 converges to $0.5$. From (c), we can find that the second largest eigenvalue of graph1 is one."
   ]
  },
  {
   "cell_type": "code",
   "execution_count": 6,
   "metadata": {
    "scrolled": false
   },
   "outputs": [
    {
     "name": "stdout",
     "output_type": "stream",
     "text": [
      "ratio of the second largest eigenvalue to the largest eigenvalue\n",
      "graph2 = 1.132474\n",
      "graph3 = 1.141281\n"
     ]
    }
   ],
   "source": [
    "print('ratio of the second largest eigenvalue to the largest eigenvalue')\n",
    "print('graph2 = %6f'% (S2[0]**2 / S2[1]**2))\n",
    "print('graph3 = %6f'% (S3[0]**2 / S3[1]**2))"
   ]
  },
  {
   "cell_type": "markdown",
   "metadata": {},
   "source": [
    "Mathematically, the \"time until we are close to $\\pi$\" is known as the mixing time of the chain, and is defined as the minimum time $t$ s.t. no matther where we start(i.e. for all states $s$), the distance between $D(t,s)$ and $\\pi$ is at most $\\frac{1}{4}$. From the ratio result above, we can find that the larger ratio of eigenvalue, the faster convergence speed the graph has. This link mixing time with power iteration algorithm since the ratio value $\\frac{\\lambda_{1}}{\\lambda_{2}}$ determins the requisite iteration number to find the first eigenvalue(when initial vector is chosen randomly). Although the initial state $v$ is not chosen randomly, it illusrates that in most setting, the ratio between the two largest eigenvalues of a transition matrix roughly correspond to the rate at which $vP^T$ converges to $\\pi$"
   ]
  },
  {
   "cell_type": "code",
   "execution_count": null,
   "metadata": {},
   "outputs": [],
   "source": []
  }
 ],
 "metadata": {
  "kernelspec": {
   "display_name": "Python 3",
   "language": "python",
   "name": "python3"
  },
  "language_info": {
   "codemirror_mode": {
    "name": "ipython",
    "version": 3
   },
   "file_extension": ".py",
   "mimetype": "text/x-python",
   "name": "python",
   "nbconvert_exporter": "python",
   "pygments_lexer": "ipython3",
   "version": "3.6.4"
  }
 },
 "nbformat": 4,
 "nbformat_minor": 2
}
