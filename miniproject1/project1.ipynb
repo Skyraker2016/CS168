{
 "cells": [
  {
   "cell_type": "code",
   "execution_count": 1,
   "metadata": {},
   "outputs": [],
   "source": [
    "import numpy as np\n",
    "import matplotlib.pyplot as plt\n",
    "import hashlib\n",
    "import random\n",
    "import time"
   ]
  },
  {
   "cell_type": "markdown",
   "metadata": {},
   "source": [
    "## Part 1: The Power of Two Choices\n",
    "**Description:** We consider random processes of the following type: there are N bins, and we throw N balls\n",
    "into them, one by one. We'll compare four different strategies for choosing the bin in which to place a given\n",
    "ball."
   ]
  },
  {
   "cell_type": "markdown",
   "metadata": {},
   "source": [
    "(a) (5 points) Write code to simulate strategies 1-4. For each strategy, there should be a function that\n",
    "takes the number N of balls and bins as input, simulates a run of the corresponding random process,\n",
    "and outputs the number of balls in the most populated bin (denoted by X below)."
   ]
  },
  {
   "cell_type": "markdown",
   "metadata": {},
   "source": [
    "1 . Select one of the N bins uniformly at random, and place the current ball in it."
   ]
  },
  {
   "cell_type": "code",
   "execution_count": 2,
   "metadata": {
    "scrolled": false
   },
   "outputs": [],
   "source": [
    "def s1(N):\n",
    "    Bins = [[] for i in range(N)]\n",
    "    Balls = [i for i in range(N)]\n",
    "    Bins = [[] for i in range(N)]\n",
    "    for ball in Balls:\n",
    "        Bins[np.random.randint(0, N)].append(ball)\n",
    "        \n",
    "#    print('1: '+str(Bins))\n",
    "    return max(map(len, Bins))\n",
    "\n",
    "#s1(20)"
   ]
  },
  {
   "cell_type": "markdown",
   "metadata": {},
   "source": [
    "2 . Select two of the N bins uniformly at random (either with or without replacement), and look at how\n",
    "many balls are already in each. If one bin has strictly fewer balls than the other, place the current ball\n",
    "in that bin. If both bins have the same number of balls, pick one of the two at random and place the\n",
    "current ball in it."
   ]
  },
  {
   "cell_type": "code",
   "execution_count": 3,
   "metadata": {},
   "outputs": [],
   "source": [
    "def s2(N):\n",
    "    Bins = [[] for i in range(N)]\n",
    "    Balls = [i for i in range(N)]\n",
    "    Bins = [[] for i in range(N)]\n",
    "    for ball in Balls:\n",
    "        bin1, bin2 = np.random.randint(0, N, 2)\n",
    "        if ( len(Bins[bin1]) < len(Bins[bin2])):\n",
    "            Bins[bin1].append(ball)\n",
    "        elif ( len(Bins[bin1]) > len(Bins[bin2])):\n",
    "            Bins[bin2].append(ball)\n",
    "        else:\n",
    "            Bins[bin1].append(ball) if np.random.randint(0,2) else Bins[bin2].append(ball)\n",
    "    \n",
    "#    print('2: '+str(Bins))\n",
    "    return max(map(len, Bins))\n",
    "\n",
    "# s1(20)"
   ]
  },
  {
   "cell_type": "markdown",
   "metadata": {},
   "source": [
    "3 . Same as the previous strategy, except choosing three bins at random rather than two."
   ]
  },
  {
   "cell_type": "code",
   "execution_count": 4,
   "metadata": {},
   "outputs": [],
   "source": [
    "def s3(N):\n",
    "    Bins = [[] for i in range(N)]\n",
    "    Balls = [i for i in range(N)]\n",
    "    Bins = [[] for i in range(N)]\n",
    "    for ball in Balls:\n",
    "        bin1, bin2, bin3 = np.random.randint(0, N, 3)\n",
    "        l1, l2, l3 = len(Bins[bin1]), len(Bins[bin2]), len(Bins[bin3])\n",
    "        if ( l1<=l2 and l1<=l3):\n",
    "            Bins[bin1].append(ball)\n",
    "        elif ( l2<=l1 and l2<=l3):\n",
    "            Bins[bin2].append(ball)\n",
    "        elif ( l3<=l1 and l3<=l2):\n",
    "            Bins[bin3].append(ball)\n",
    "\n",
    "#    print('3: '+str(Bins))\n",
    "    return max(map(len, Bins))\n",
    "\n",
    "#s3(20)"
   ]
  },
  {
   "cell_type": "markdown",
   "metadata": {},
   "source": [
    "4 . Select two bins as follows: the first bin is selected uniformly from the first N/2 bins, and the second\n",
    "uniformly from the last N/2 bins. (You can assume that N is even.) If one bin has strictly fewer balls\n",
    "than the other, place the current ball in that bin. If both bins have the same number of balls, place\n",
    "the current ball (deterministically) in the first of the two bins."
   ]
  },
  {
   "cell_type": "code",
   "execution_count": 5,
   "metadata": {},
   "outputs": [],
   "source": [
    "def s4(N):\n",
    "    Bins = [[] for i in range(N)]\n",
    "    Balls = [i for i in range(N)]\n",
    "    Bins = [[] for i in range(N)]\n",
    "    for ball in Balls:\n",
    "        bin1 = np.random.randint(0, N/2)\n",
    "        bin2 = np.random.randint(N/2, N)\n",
    "        if np.random.randint(0,2):\n",
    "            bin1, bin2 = bin2, bin1\n",
    "        l1, l2 = len(Bins[bin1]), len(Bins[bin2])\n",
    "        if (l1<=l2):\n",
    "            Bins[bin1].append(ball)\n",
    "        else:\n",
    "            Bins[bin2].append(ball)\n",
    "    \n",
    "\n",
    "#    print('4: '+str(Bins))\n",
    "    return max(map(len, Bins))\n",
    "\n",
    "#s4(20)"
   ]
  },
  {
   "cell_type": "markdown",
   "metadata": {},
   "source": [
    "(b) (10 points) Let N = 200,000 and simulate each of the four strategies 30 times. For each strategy, plot\n",
    "the histogram of the 30 values of X. Discuss the pros and cons of the different strategies. Does one\n",
    "of them stand out as a \"sweet spot\"?"
   ]
  },
  {
   "cell_type": "code",
   "execution_count": 6,
   "metadata": {},
   "outputs": [],
   "source": [
    "X = [[] for i in range(4)]\n",
    "T = [[] for i in range(4)]\n",
    "N = 200000\n",
    "for _ in range(30):\n",
    "    time_start = time.clock()\n",
    "    x = s1(N)\n",
    "    time_end = time.clock()\n",
    "    X[0].append(x)\n",
    "    T[0].append(time_end-time_start)\n",
    "\n",
    "for _ in range(30):\n",
    "    time_start = time.clock()\n",
    "    x = s2(N)\n",
    "    time_end = time.clock()\n",
    "    X[1].append(x)\n",
    "    T[1].append(time_end-time_start)\n",
    "    \n",
    "for _ in range(30):\n",
    "    time_start = time.clock()\n",
    "    x = s3(N)\n",
    "    time_end = time.clock()\n",
    "    X[2].append(x)\n",
    "    T[2].append(time_end-time_start)\n",
    "    \n",
    "for _ in range(30):\n",
    "    time_start = time.clock()\n",
    "    x = s4(N)\n",
    "    time_end = time.clock()\n",
    "    X[3].append(x)\n",
    "    T[3].append(time_end-time_start)\n",
    "    "
   ]
  },
  {
   "cell_type": "code",
   "execution_count": 7,
   "metadata": {},
   "outputs": [
    {
     "data": {
      "image/png": "[encoded data removed]",
      "text/plain": [
       "<Figure size 720x360 with 8 Axes>"
      ]
     },
     "metadata": {},
     "output_type": "display_data"
    }
   ],
   "source": [
    "plt.figure(figsize=(10,5))\n",
    "for i in range(4):\n",
    "    plt.subplot(3,8,1+i*2)\n",
    "    plt.hist(X[i], bins = 3, color = \"blue\", histtype = 'stepfilled')\n",
    "    plt.xlabel('crashed number')\n",
    "    plt.ylabel('frequency')\n",
    "#     plt.set_title('X of '+str(i))\n",
    "\n",
    "    plt.subplot(3,8,17+i*2)\n",
    "    plt.hist(T[i], bins = 10, color = \"red\", histtype = 'stepfilled')\n",
    "    plt.xlabel('running time/s')\n",
    "    plt.ylabel('frequency')\n",
    "#     plt.set_title('time of '+str(i))\n",
    "    \n",
    "plt.show()\n",
    "plt.close()"
   ]
  },
  {
   "cell_type": "code",
   "execution_count": 8,
   "metadata": {},
   "outputs": [
    {
     "data": {
      "image/png": "[encoded data removed]",
      "text/plain": [
       "<Figure size 432x288 with 1 Axes>"
      ]
     },
     "metadata": {},
     "output_type": "display_data"
    }
   ],
   "source": [
    "colors = [\"blue\", \"red\", \"yellow\", \"green\"]\n",
    "for i in range(4):\n",
    "    l1, = plt.plot(X[i], color = colors[i], marker='+')\n",
    "    l2, = plt.plot(T[i], color = colors[i], marker='o')\n",
    "\n",
    "plt.legend(['1-X','1-T','2-X','2-T','3-X','3-T','4-X','4-T'], loc='best')\n",
    "    \n",
    "plt.show()"
   ]
  },
  {
   "cell_type": "markdown",
   "metadata": {},
   "source": [
    "<font color=blue>**Ans:** The first strategy is the fastest one to insert balls into the bins while this strategy gains the largest amount of crashed number. Strategies 2-4 alleviate the problem that causing huge amount of crashed balls at the price of nearly twice running time as much as that of the first strategy. We can conclude that the third strategy is the \"sweet spot\" since it affords the best leverage between crashed number and running time.</font>"
   ]
  },
  {
   "cell_type": "markdown",
   "metadata": {},
   "source": [
    "(c) (5 points) Propose an analogy between the first of the random processes above and the standard\n",
    "implementation of hashing N elements into a hash table with N buckets, and resolving collisions via\n",
    "chaining (i.e., one linked list per bucket). Discuss in particular any relationships between X and search\n",
    "times in the hash table."
   ]
  },
  {
   "cell_type": "markdown",
   "metadata": {},
   "source": [
    "<font color=blue>**Ans:** When the hash function is good enough, it will provide the random bin index uniformly. In hash table, when X grows larger, chainings become longer. As a consequence, searching times is longer.\n",
    "</font>"
   ]
  },
  {
   "cell_type": "markdown",
   "metadata": {},
   "source": [
    "(d) (5 points) Do the other random processes suggest alternative implementations of hash tables with\n",
    "chaining? Discuss the trade-offs between the different hash table implementations that you propose\n",
    "(e.g., in terms of insertion time vs. search time)."
   ]
  },
  {
   "cell_type": "markdown",
   "metadata": {},
   "source": [
    "<font color=blue>**Ans: ** Select four of the N bins uniformly at random, and place the current ball in the bin with the minimun amount of balls. Because we should pick the minimum bins, it would take more time. By the conclusion of (b), we could say that the crashed frequency would be lower. \n",
    "</font>"
   ]
  },
  {
   "cell_type": "markdown",
   "metadata": {},
   "source": [
    "## Part 2: Conservative Updates in a Count-Min Sketch"
   ]
  },
  {
   "cell_type": "markdown",
   "metadata": {},
   "source": [
    "Description: You’ll use a count-min sketch with 4 independent hash tables, each with 256 counters. Your\n",
    "sketch should take a “trial” as input, and the hash value of an element x during trial i (i = 1, 2, . . . , 10) for\n",
    "table j (j = 1, 2, 3, 4) is calculated as follows:\n",
    "\n",
    "* Consider the input x as a string, and append i − 1 as a string to the end of the string.\n",
    "* Calculate the MD5 score of the resulting string.2 Do not implement the MD5 algorithm yourself; most\n",
    "modern programming languages have packages that calculate MD5 scores for you. For example, in\n",
    "Python 3, you can use the hashlib library and hashlib.md5(foo.encode(’utf-8’)).hexdigest()\n",
    "to compute the MD5 score of the string foo (returning a hexidecimal string).\n",
    "* The hash value is the j-th byte of the score."
   ]
  },
  {
   "cell_type": "markdown",
   "metadata": {},
   "source": [
    "(a) (5 points) Implement the count-min sketch, as above.\n",
    "You will be feeding data streams (i.e., sequences of elements) into count-min sketches. Every element of\n",
    "each stream is an integer between 1 and 9050 (inclusive). The frequencies are given by:\n",
    "* Integers 1000 · (i − 1) + 1 to 1000 · i, for 1 ≤ i ≤ 9, appear i times in the stream. That is, the integers\n",
    "1 to 1000 appear once in the stream; 1001 to 2000 appear twice; and so on.\n",
    "* An integer 9000 + i, for 1 ≤ i ≤ 50, appears i\n",
    "2\n",
    "times in the stream. For example, the integer 9050\n",
    "appears 2500 times."
   ]
  },
  {
   "cell_type": "code",
   "execution_count": 9,
   "metadata": {},
   "outputs": [],
   "source": [
    "# create the numeric input stream\n",
    "Input = []\n",
    "for i in range(0,9):\n",
    "    inp = np.random.randint(i*1000, i*1000+1000)+1\n",
    "    for _ in range(i+1):\n",
    "        Input.append(inp)\n",
    "\n",
    "for i in range(1, 51):\n",
    "    for _ in range(i*i):\n",
    "        Input.append(9000+i)\n"
   ]
  },
  {
   "cell_type": "markdown",
   "metadata": {},
   "source": [
    "(b) (2 points) Call an integer a heavy hitter if the number of times it appears is at least 1% of the total\n",
    "number of stream elements. How many heavy hitters are there in a stream with the above frequencies?\n",
    "Next, you will consider 3 different data streams, each corresponding to the elements above in a different\n",
    "order.\n",
    "1. Forward: the elements appear in non-decreasing order.\n",
    "2. Reverse: the elements appear in non-increasing order.\n",
    "3. Random: the elements appear in a random order."
   ]
  },
  {
   "cell_type": "code",
   "execution_count": 10,
   "metadata": {},
   "outputs": [],
   "source": [
    "b = 256\n",
    "l = 4\n",
    "\n",
    "def inc(numeric_input):\n",
    "    string_input = str(numeric_input)\n",
    "    long_index = int(hashlib.md5(string_input.encode('utf8')).hexdigest(), 16)\n",
    "    for i in range(l):\n",
    "        cms[i][long_index%256] += 1\n",
    "        long_index //= 256\n",
    "        \n",
    "# Forward\n",
    "cms = np.zeros((l,b))\n",
    "for inp in Input:\n",
    "    inc(inp)\n",
    "        \n",
    "cms1 = cms\n",
    "\n",
    "#Reverse\n",
    "cms = np.zeros((l,b))\n",
    "for inp in reversed(Input):\n",
    "    inc(inp)\n",
    "\n",
    "cms2 = cms\n",
    "\n",
    "# Random\n",
    "cms = np.zeros((l,b))\n",
    "random.shuffle(Input)\n",
    "for inp in Input:\n",
    "    inc(inp)\n",
    "        \n",
    "cms3 = cms"
   ]
  },
  {
   "cell_type": "code",
   "execution_count": 11,
   "metadata": {},
   "outputs": [
    {
     "data": {
      "text/plain": [
       "429.7"
      ]
     },
     "execution_count": 11,
     "metadata": {},
     "output_type": "execute_result"
    }
   ],
   "source": [
    "heavy = len(Input)/100\n",
    "heavy"
   ]
  },
  {
   "cell_type": "markdown",
   "metadata": {},
   "source": [
    "<font color=blue>**Ans: ** Since 1% of the total number is 429.7 < $21^2$, number 9021 - 9050 are heavy hitters. There are totally 30 heavy hitters.\n",
    "</font>"
   ]
  },
  {
   "cell_type": "markdown",
   "metadata": {},
   "source": [
    "(c) (6 points) For each of the three data streams, feed it into a count-min sketch (i.e., successively insert\n",
    "its elements), and compute the values of the following quantities, averaged over the 10 trials, for each\n",
    "order of the stream:\n",
    "\n",
    "– The sketch’s estimate for the frequency of element 9050.\n",
    "\n",
    "– The sketch’s estimate for the number of heavy hitters (elements with estimated frequency at least\n",
    "1% of the stream length).\n",
    "\n",
    "Does the order of the stream affect the estimated counts? Explain your answer."
   ]
  },
  {
   "cell_type": "code",
   "execution_count": 12,
   "metadata": {},
   "outputs": [
    {
     "name": "stdout",
     "output_type": "stream",
     "text": [
      "sketch's estimate for the frequence of element 9050:  2500.0\n",
      "hitter numbers: 33\n",
      "There are:  [2238, 3761, 4394, 9021, 9022, 9023, 9024, 9025, 9026, 9027, 9028, 9029, 9030, 9031, 9032, 9033, 9034, 9035, 9036, 9037, 9038, 9039, 9040, 9041, 9042, 9043, 9044, 9045, 9046, 9047, 9048, 9049, 9050]\n",
      "sketch's estimate for the frequence of element 9050:  2500.0\n",
      "hitter numbers: 33\n",
      "There are:  [2238, 3761, 4394, 9021, 9022, 9023, 9024, 9025, 9026, 9027, 9028, 9029, 9030, 9031, 9032, 9033, 9034, 9035, 9036, 9037, 9038, 9039, 9040, 9041, 9042, 9043, 9044, 9045, 9046, 9047, 9048, 9049, 9050]\n",
      "sketch's estimate for the frequence of element 9050:  2500.0\n",
      "hitter numbers: 33\n",
      "There are:  [2238, 3761, 4394, 9021, 9022, 9023, 9024, 9025, 9026, 9027, 9028, 9029, 9030, 9031, 9032, 9033, 9034, 9035, 9036, 9037, 9038, 9039, 9040, 9041, 9042, 9043, 9044, 9045, 9046, 9047, 9048, 9049, 9050]\n"
     ]
    }
   ],
   "source": [
    "#count the min count from the table\n",
    "def count(numeric_input, c):\n",
    "    string_input = str(numeric_input)\n",
    "    long_index = int(hashlib.md5(string_input.encode('utf8')).hexdigest(), 16)\n",
    "    min_count = 99999\n",
    "    for i in range(l):\n",
    "        min_count = min(c[i][long_index%256], min_count)\n",
    "        long_index //= 256\n",
    "    return min_count\n",
    "\n",
    "def test(c):\n",
    "    print('sketch\\'s estimate for the frequence of element 9050: ', count(9050, c))\n",
    "    num = 0\n",
    "    hitters = []\n",
    "    for i in range(1,9051):\n",
    "        if count(i, c) > heavy:\n",
    "            hitters.append(i)\n",
    "    print('hitter numbers: ' + str(len(hitters)))\n",
    "    print('There are: ', str(hitters))\n",
    "    \n",
    "test(cms1)\n",
    "test(cms2)\n",
    "test(cms3)"
   ]
  },
  {
   "cell_type": "markdown",
   "metadata": {},
   "source": [
    "<font color=blue>**Ans: ** Different order of the stream doesn't influence the amount of the heavy hitters. This algorithm is order insensitive. The reason is that no matter which number we input currently, the corresponding positions of this number in the CMS will execute increase function. The corresponding positions of the number won't be influenced by the input order. After inputting all number, elements of CMS with different input order will maintain identical value, which is exploited to gain heavy hitters. Therefore, different input order will get the same hitter number.\n",
    "</font>"
   ]
  },
  {
   "cell_type": "markdown",
   "metadata": {},
   "source": [
    "(d) (3 points) Implement the conservative updates optimization, as follows. When updating the counters\n",
    "during an insert, instead of incrementing all 4 counters, we only increment the subset of these 4 counters\n",
    "that have the lowest current count (if two or more of them are tied for the minimum current count,\n",
    "then we increment each of these)."
   ]
  },
  {
   "cell_type": "code",
   "execution_count": 13,
   "metadata": {},
   "outputs": [],
   "source": [
    "cms = np.zeros((l,b))\n",
    "def inc2(numeric_input):\n",
    "    string_input = str(numeric_input)\n",
    "    md5_string = hashlib.md5(string_input.encode('utf8')).hexdigest()\n",
    "    min_count = 9999\n",
    "    argmin = []\n",
    "    for i in range(l):\n",
    "        index = GetHashIndex(md5_string, i)\n",
    "        if(cms[i][index] < min_count):\n",
    "            argmin = [i]\n",
    "            min_count = cms[i][index]\n",
    "        elif(cms[i][index] == min_count):\n",
    "            argmin.append(i)\n",
    "            min_count = cms[i][index]\n",
    "    \n",
    "    for each in argmin:\n",
    "        index = GetHashIndex(md5_string, each)\n",
    "        cms[each][index] += 1\n",
    "    \n",
    "    \n",
    "def GetHashIndex(md5_string, index):\n",
    "    if(index == 0):\n",
    "        return int(md5_string[-2:], 16)\n",
    "    elif(index > 0 and index < b):\n",
    "        return int(md5_string[-2-2*index:-2-2*index+2], 16)"
   ]
  },
  {
   "cell_type": "markdown",
   "metadata": {},
   "source": [
    "(e) (3 points) Explain why, even with conservative updates, the count-min sketch never underestimates\n",
    "the count of a value."
   ]
  },
  {
   "cell_type": "markdown",
   "metadata": {},
   "source": [
    "<font color=blue>**Ans:**\n",
    "\n",
    "*base step*: \n",
    "\n",
    "When all element in cms are zero, insert a new string causing all correspond cms element increase. So the count-min sketch doesn't underestimate the count of the value.\n",
    "\n",
    "*iterate step*:\n",
    "\n",
    "Suppose the count-min sketch doesn't underestiate the count of the correspond value after n steps. \n",
    "<center>\n",
    "$ count(v_i) \\geq frequency(v_i)~~$ for $\\forall i$\n",
    "</center>\n",
    "\n",
    "A new value $v_j$ insert, causing the lowest current count increase, we have:\n",
    "\n",
    "$$ count(v_j) + 1 \\geq frequency(v_j) + 1$$\n",
    "$$ newcount(v_j) \\geq newfrequency(v_j)$$\n",
    "\n",
    "still satisfying:\n",
    "<center>$ count(v_i) \\geq frequency(v_i)~~$ for $\\forall i$</center>\n",
    "\n",
    "From mathematical induction, we conclude that the count-min sketch never underestimates the count of a value.\n",
    "</font>"
   ]
  },
  {
   "cell_type": "markdown",
   "metadata": {},
   "source": [
    "(f) (6 points) Repeat part (c) with conservative updates."
   ]
  },
  {
   "cell_type": "code",
   "execution_count": 14,
   "metadata": {},
   "outputs": [
    {
     "name": "stdout",
     "output_type": "stream",
     "text": [
      "sketch's estimate for the frequence of element 9050:  2500.0\n",
      "hitter numbers: 32\n",
      "There are:  [2238, 4394, 9021, 9022, 9023, 9024, 9025, 9026, 9027, 9028, 9029, 9030, 9031, 9032, 9033, 9034, 9035, 9036, 9037, 9038, 9039, 9040, 9041, 9042, 9043, 9044, 9045, 9046, 9047, 9048, 9049, 9050]\n"
     ]
    }
   ],
   "source": [
    "#count the min count from the table\n",
    "# Forward\n",
    "cms = np.zeros((l,b))\n",
    "for inp in Input:\n",
    "    inc2(inp)\n",
    "        \n",
    "test(cms)"
   ]
  },
  {
   "cell_type": "markdown",
   "metadata": {},
   "source": [
    "<font color=blue>\n",
    "We can see it has less wrong hitter(e.g. 2238, 4394) than the one before optimization.\n",
    "</font>"
   ]
  }
 ],
 "metadata": {
  "kernelspec": {
   "display_name": "Python 3",
   "language": "python",
   "name": "python3"
  },
  "language_info": {
   "codemirror_mode": {
    "name": "ipython",
    "version": 3
   },
   "file_extension": ".py",
   "mimetype": "text/x-python",
   "name": "python",
   "nbconvert_exporter": "python",
   "pygments_lexer": "ipython3",
   "version": "3.6.5"
  }
 },
 "nbformat": 4,
 "nbformat_minor": 2
}
