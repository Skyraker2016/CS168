{
 "cells": [
  {
   "cell_type": "code",
   "execution_count": 1,
   "metadata": {},
   "outputs": [],
   "source": [
    "import os\n",
    "import numpy as np\n",
    "from sklearn.decomposition import PCA\n",
    "import pandas as pd\n",
    "from matplotlib import pyplot as plt\n",
    "from scipy import stats\n",
    "import warnings \n",
    "warnings.filterwarnings(\"ignore\")"
   ]
  },
  {
   "cell_type": "markdown",
   "metadata": {},
   "source": [
    "# Part 1"
   ]
  },
  {
   "cell_type": "code",
   "execution_count": 2,
   "metadata": {},
   "outputs": [],
   "source": [
    "def read_text(file_path=\"p4dataset2018.txt\"):\n",
    "    with open(file_path, 'r') as file:\n",
    "        result = np.array([line.split() for line in file.readlines()])\n",
    "        return result\n",
    "\n",
    "def transform_data(origin_data):\n",
    "    m = stats.mode(origin_data[:,3:])[0][0]\n",
    "    result = m != origin_data[:,3:]\n",
    "    return result.astype('int32')"
   ]
  },
  {
   "cell_type": "code",
   "execution_count": 3,
   "metadata": {},
   "outputs": [
    {
     "ename": "MemoryError",
     "evalue": "",
     "output_type": "error",
     "traceback": [
      "\u001b[0;31m---------------------------------------------------------------------------\u001b[0m",
      "\u001b[0;31mMemoryError\u001b[0m                               Traceback (most recent call last)",
      "\u001b[0;32m<ipython-input-3-1d52e747b5b3>\u001b[0m in \u001b[0;36m<module>\u001b[0;34m()\u001b[0m\n\u001b[1;32m      1\u001b[0m \u001b[0mX_origin\u001b[0m \u001b[0;34m=\u001b[0m \u001b[0mread_text\u001b[0m\u001b[0;34m(\u001b[0m\u001b[0;34m)\u001b[0m\u001b[0;34m\u001b[0m\u001b[0m\n\u001b[0;32m----> 2\u001b[0;31m \u001b[0mX\u001b[0m \u001b[0;34m=\u001b[0m \u001b[0mtransform_data\u001b[0m\u001b[0;34m(\u001b[0m\u001b[0mX_origin\u001b[0m\u001b[0;34m)\u001b[0m\u001b[0;34m\u001b[0m\u001b[0m\n\u001b[0m\u001b[1;32m      3\u001b[0m \u001b[0mprint\u001b[0m\u001b[0;34m(\u001b[0m\u001b[0mX\u001b[0m\u001b[0;34m.\u001b[0m\u001b[0mshape\u001b[0m\u001b[0;34m)\u001b[0m\u001b[0;34m\u001b[0m\u001b[0m\n\u001b[1;32m      4\u001b[0m \u001b[0mprint\u001b[0m\u001b[0;34m(\u001b[0m\u001b[0mX\u001b[0m\u001b[0;34m[\u001b[0m\u001b[0;36m0\u001b[0m\u001b[0;34m]\u001b[0m\u001b[0;34m)\u001b[0m\u001b[0;34m\u001b[0m\u001b[0m\n\u001b[1;32m      5\u001b[0m \u001b[0;34m\u001b[0m\u001b[0m\n",
      "\u001b[0;32m<ipython-input-2-22787a86002a>\u001b[0m in \u001b[0;36mtransform_data\u001b[0;34m(origin_data)\u001b[0m\n\u001b[1;32m      5\u001b[0m \u001b[0;34m\u001b[0m\u001b[0m\n\u001b[1;32m      6\u001b[0m \u001b[0;32mdef\u001b[0m \u001b[0mtransform_data\u001b[0m\u001b[0;34m(\u001b[0m\u001b[0morigin_data\u001b[0m\u001b[0;34m)\u001b[0m\u001b[0;34m:\u001b[0m\u001b[0;34m\u001b[0m\u001b[0m\n\u001b[0;32m----> 7\u001b[0;31m     \u001b[0mm\u001b[0m \u001b[0;34m=\u001b[0m \u001b[0mstats\u001b[0m\u001b[0;34m.\u001b[0m\u001b[0mmode\u001b[0m\u001b[0;34m(\u001b[0m\u001b[0morigin_data\u001b[0m\u001b[0;34m[\u001b[0m\u001b[0;34m:\u001b[0m\u001b[0;34m,\u001b[0m\u001b[0;36m3\u001b[0m\u001b[0;34m:\u001b[0m\u001b[0;34m]\u001b[0m\u001b[0;34m)\u001b[0m\u001b[0;34m[\u001b[0m\u001b[0;36m0\u001b[0m\u001b[0;34m]\u001b[0m\u001b[0;34m[\u001b[0m\u001b[0;36m0\u001b[0m\u001b[0;34m]\u001b[0m\u001b[0;34m\u001b[0m\u001b[0m\n\u001b[0m\u001b[1;32m      8\u001b[0m     \u001b[0mresult\u001b[0m \u001b[0;34m=\u001b[0m \u001b[0mm\u001b[0m \u001b[0;34m!=\u001b[0m \u001b[0morigin_data\u001b[0m\u001b[0;34m[\u001b[0m\u001b[0;34m:\u001b[0m\u001b[0;34m,\u001b[0m\u001b[0;36m3\u001b[0m\u001b[0;34m:\u001b[0m\u001b[0;34m]\u001b[0m\u001b[0;34m\u001b[0m\u001b[0m\n\u001b[1;32m      9\u001b[0m     \u001b[0;32mreturn\u001b[0m \u001b[0mresult\u001b[0m\u001b[0;34m.\u001b[0m\u001b[0mastype\u001b[0m\u001b[0;34m(\u001b[0m\u001b[0;34m'int32'\u001b[0m\u001b[0;34m)\u001b[0m\u001b[0;34m\u001b[0m\u001b[0m\n",
      "\u001b[0;32m~/anaconda3/lib/python3.6/site-packages/scipy/stats/stats.py\u001b[0m in \u001b[0;36mmode\u001b[0;34m(a, axis, nan_policy)\u001b[0m\n\u001b[1;32m    436\u001b[0m         \u001b[0;32mreturn\u001b[0m \u001b[0mmstats_basic\u001b[0m\u001b[0;34m.\u001b[0m\u001b[0mmode\u001b[0m\u001b[0;34m(\u001b[0m\u001b[0ma\u001b[0m\u001b[0;34m,\u001b[0m \u001b[0maxis\u001b[0m\u001b[0;34m)\u001b[0m\u001b[0;34m\u001b[0m\u001b[0m\n\u001b[1;32m    437\u001b[0m \u001b[0;34m\u001b[0m\u001b[0m\n\u001b[0;32m--> 438\u001b[0;31m     \u001b[0mscores\u001b[0m \u001b[0;34m=\u001b[0m \u001b[0mnp\u001b[0m\u001b[0;34m.\u001b[0m\u001b[0munique\u001b[0m\u001b[0;34m(\u001b[0m\u001b[0mnp\u001b[0m\u001b[0;34m.\u001b[0m\u001b[0mravel\u001b[0m\u001b[0;34m(\u001b[0m\u001b[0ma\u001b[0m\u001b[0;34m)\u001b[0m\u001b[0;34m)\u001b[0m       \u001b[0;31m# get ALL unique values\u001b[0m\u001b[0;34m\u001b[0m\u001b[0m\n\u001b[0m\u001b[1;32m    439\u001b[0m     \u001b[0mtestshape\u001b[0m \u001b[0;34m=\u001b[0m \u001b[0mlist\u001b[0m\u001b[0;34m(\u001b[0m\u001b[0ma\u001b[0m\u001b[0;34m.\u001b[0m\u001b[0mshape\u001b[0m\u001b[0;34m)\u001b[0m\u001b[0;34m\u001b[0m\u001b[0m\n\u001b[1;32m    440\u001b[0m     \u001b[0mtestshape\u001b[0m\u001b[0;34m[\u001b[0m\u001b[0maxis\u001b[0m\u001b[0;34m]\u001b[0m \u001b[0;34m=\u001b[0m \u001b[0;36m1\u001b[0m\u001b[0;34m\u001b[0m\u001b[0m\n",
      "\u001b[0;32m~/anaconda3/lib/python3.6/site-packages/numpy/lib/arraysetops.py\u001b[0m in \u001b[0;36munique\u001b[0;34m(ar, return_index, return_inverse, return_counts, axis)\u001b[0m\n\u001b[1;32m    208\u001b[0m     \u001b[0mar\u001b[0m \u001b[0;34m=\u001b[0m \u001b[0mnp\u001b[0m\u001b[0;34m.\u001b[0m\u001b[0masanyarray\u001b[0m\u001b[0;34m(\u001b[0m\u001b[0mar\u001b[0m\u001b[0;34m)\u001b[0m\u001b[0;34m\u001b[0m\u001b[0m\n\u001b[1;32m    209\u001b[0m     \u001b[0;32mif\u001b[0m \u001b[0maxis\u001b[0m \u001b[0;32mis\u001b[0m \u001b[0;32mNone\u001b[0m\u001b[0;34m:\u001b[0m\u001b[0;34m\u001b[0m\u001b[0m\n\u001b[0;32m--> 210\u001b[0;31m         \u001b[0;32mreturn\u001b[0m \u001b[0m_unique1d\u001b[0m\u001b[0;34m(\u001b[0m\u001b[0mar\u001b[0m\u001b[0;34m,\u001b[0m \u001b[0mreturn_index\u001b[0m\u001b[0;34m,\u001b[0m \u001b[0mreturn_inverse\u001b[0m\u001b[0;34m,\u001b[0m \u001b[0mreturn_counts\u001b[0m\u001b[0;34m)\u001b[0m\u001b[0;34m\u001b[0m\u001b[0m\n\u001b[0m\u001b[1;32m    211\u001b[0m     \u001b[0;32mif\u001b[0m \u001b[0;32mnot\u001b[0m \u001b[0;34m(\u001b[0m\u001b[0;34m-\u001b[0m\u001b[0mar\u001b[0m\u001b[0;34m.\u001b[0m\u001b[0mndim\u001b[0m \u001b[0;34m<=\u001b[0m \u001b[0maxis\u001b[0m \u001b[0;34m<\u001b[0m \u001b[0mar\u001b[0m\u001b[0;34m.\u001b[0m\u001b[0mndim\u001b[0m\u001b[0;34m)\u001b[0m\u001b[0;34m:\u001b[0m\u001b[0;34m\u001b[0m\u001b[0m\n\u001b[1;32m    212\u001b[0m         \u001b[0;32mraise\u001b[0m \u001b[0mValueError\u001b[0m\u001b[0;34m(\u001b[0m\u001b[0;34m'Invalid axis kwarg specified for unique'\u001b[0m\u001b[0;34m)\u001b[0m\u001b[0;34m\u001b[0m\u001b[0m\n",
      "\u001b[0;32m~/anaconda3/lib/python3.6/site-packages/numpy/lib/arraysetops.py\u001b[0m in \u001b[0;36m_unique1d\u001b[0;34m(ar, return_index, return_inverse, return_counts)\u001b[0m\n\u001b[1;32m    253\u001b[0m     \u001b[0mFind\u001b[0m \u001b[0mthe\u001b[0m \u001b[0munique\u001b[0m \u001b[0melements\u001b[0m \u001b[0mof\u001b[0m \u001b[0man\u001b[0m \u001b[0marray\u001b[0m\u001b[0;34m,\u001b[0m \u001b[0mignoring\u001b[0m \u001b[0mshape\u001b[0m\u001b[0;34m.\u001b[0m\u001b[0;34m\u001b[0m\u001b[0m\n\u001b[1;32m    254\u001b[0m     \"\"\"\n\u001b[0;32m--> 255\u001b[0;31m     \u001b[0mar\u001b[0m \u001b[0;34m=\u001b[0m \u001b[0mnp\u001b[0m\u001b[0;34m.\u001b[0m\u001b[0masanyarray\u001b[0m\u001b[0;34m(\u001b[0m\u001b[0mar\u001b[0m\u001b[0;34m)\u001b[0m\u001b[0;34m.\u001b[0m\u001b[0mflatten\u001b[0m\u001b[0;34m(\u001b[0m\u001b[0;34m)\u001b[0m\u001b[0;34m\u001b[0m\u001b[0m\n\u001b[0m\u001b[1;32m    256\u001b[0m \u001b[0;34m\u001b[0m\u001b[0m\n\u001b[1;32m    257\u001b[0m     \u001b[0moptional_indices\u001b[0m \u001b[0;34m=\u001b[0m \u001b[0mreturn_index\u001b[0m \u001b[0;32mor\u001b[0m \u001b[0mreturn_inverse\u001b[0m\u001b[0;34m\u001b[0m\u001b[0m\n",
      "\u001b[0;31mMemoryError\u001b[0m: "
     ]
    }
   ],
   "source": [
    "X_origin = read_text()\n",
    "X = transform_data(X_origin)\n",
    "print(X.shape)\n",
    "print(X[0])\n",
    "\n",
    "# counting label color\n",
    "population_dict = {}\n",
    "sex_dict = {}\n",
    "color_dict = ['b','c','g','k','m','r','y','orange']\n",
    "color_index_population = 0\n",
    "color_index_sex = 0\n",
    "for individual in X_origin:\n",
    "    if individual[2] not in population_dict.keys():\n",
    "        population_dict[individual[2]] = color_dict[color_index_population]\n",
    "        color_index_population += 1\n",
    "    if individual[1] not in sex_dict.keys():\n",
    "        sex_dict[individual[1]] = color_dict[color_index_sex]\n",
    "        color_index_sex += 1\n",
    "print(population_dict)\n",
    "print(sex_dict)"
   ]
  },
  {
   "cell_type": "markdown",
   "metadata": {},
   "source": [
    "### a)"
   ]
  },
  {
   "cell_type": "code",
   "execution_count": null,
   "metadata": {},
   "outputs": [],
   "source": [
    "pca = PCA()\n",
    "X_pca = pca.fit_transform(X)"
   ]
  },
  {
   "cell_type": "code",
   "execution_count": null,
   "metadata": {},
   "outputs": [],
   "source": [
    "X_pca.shape"
   ]
  },
  {
   "cell_type": "markdown",
   "metadata": {},
   "source": [
    "### b)"
   ]
  },
  {
   "cell_type": "code",
   "execution_count": null,
   "metadata": {},
   "outputs": [],
   "source": [
    "X_2 = X_pca[:,:2]\n",
    "plt.xlabel('v1')\n",
    "plt.ylabel('v2')\n",
    "for population in population_dict.keys():\n",
    "    indexes = np.where(X_origin[:,2]==population)\n",
    "    scatter_plot = plt.scatter(X_2[indexes,0], X_2[indexes,1], c=population_dict[population], marker='.')\n",
    "plt.legend((population_dict.keys()), loc=2, bbox_to_anchor=(1.05,1.0),borderaxespad = 0.)\n",
    "plt.show();"
   ]
  },
  {
   "cell_type": "markdown",
   "metadata": {},
   "source": [
    "### c)"
   ]
  },
  {
   "cell_type": "markdown",
   "metadata": {},
   "source": [
    "It's essentially a map of Africa! People are of cluster distribution.\n",
    "\n",
    "The first two components reveal the geometry information from nucleobases.  The first principal component $v_1$ corresponds roughly to the latitude of where someone's from, and $v_2$ to the longitude."
   ]
  },
  {
   "cell_type": "markdown",
   "metadata": {},
   "source": [
    "### d) "
   ]
  },
  {
   "cell_type": "code",
   "execution_count": null,
   "metadata": {
    "scrolled": true
   },
   "outputs": [],
   "source": [
    "X_3 = X_pca[:,[0,2]]\n",
    "plt.figure(figsize=(15,5))\n",
    "plt.subplot(1, 2, 1)\n",
    "plt.title(\"Population\")\n",
    "plt.xlabel('v1')\n",
    "plt.ylabel('v3')\n",
    "for population in population_dict.keys():\n",
    "    indexes = np.where(X_origin[:,2]==population)\n",
    "    scatter_plot = plt.scatter(X_3[indexes,0], X_3[indexes,1], c=population_dict[population], marker='.')\n",
    "plt.legend((population_dict.keys()), loc=2, bbox_to_anchor=(-0.3,1),borderaxespad = 0.)\n",
    "\n",
    "plt.subplot(1, 2, 2)\n",
    "plt.title(\"sex\")\n",
    "plt.xlabel('v1')\n",
    "plt.ylabel('v3')\n",
    "for sex in sex_dict.keys():\n",
    "    indexes = np.where(X_origin[:,1]==sex)\n",
    "    scatter_plot = plt.scatter(X_3[indexes,0], X_3[indexes,1], c=sex_dict[sex], marker='.')\n",
    "plt.legend((sex_dict.keys()), loc=2, bbox_to_anchor=(1.05,1.0),borderaxespad = 0.)\n",
    "plt.show();"
   ]
  },
  {
   "cell_type": "markdown",
   "metadata": {},
   "source": [
    "### e) "
   ]
  },
  {
   "cell_type": "markdown",
   "metadata": {},
   "source": [
    "The third principal component captures the sexuality of the samples."
   ]
  },
  {
   "cell_type": "markdown",
   "metadata": {},
   "source": [
    "### f)"
   ]
  },
  {
   "cell_type": "code",
   "execution_count": null,
   "metadata": {},
   "outputs": [],
   "source": [
    "plt.figure(figsize=(15,5))\n",
    "plt.title(\"nucleobase index vs |3rd|\")\n",
    "plt.xlabel('index')\n",
    "plt.ylabel('|3rd|')\n",
    "plt.plot(range(len(X_3)), np.abs(X_3[:,1]))\n",
    "plt.show();"
   ]
  },
  {
   "cell_type": "markdown",
   "metadata": {},
   "source": [
    "The line oscillates severely and disorderly. Nevertheless, it oscillates roughly around horizontal line where $V_{component} = 3$ except two abnormal points. Oscillating around a horizontal line illustrates that although people are from different population and have different sexuality, their chromosomes still show consistency to some extend. The two peculiar points reveal another inspect about chromosomes. That is gene mutation. With a small probability, gene can mutate and alter the feature of the people. These two people may have two Y chromosomes rarely and therefore have particular scalar in the third component of PCA. This phenomena uncover the variousness of chromosomes."
   ]
  },
  {
   "cell_type": "markdown",
   "metadata": {},
   "source": [
    "## Bonus"
   ]
  },
  {
   "cell_type": "markdown",
   "metadata": {},
   "source": [
    "### g)"
   ]
  },
  {
   "cell_type": "code",
   "execution_count": null,
   "metadata": {},
   "outputs": [],
   "source": [
    "GTAC_dict = {'G':1, 'T':2, 'A':3, 'C':4}\n",
    "def transform_data_Y(origin_data):\n",
    "    x, y = origin_data.shape\n",
    "    y -= 3\n",
    "    result = np.zeros((x, y))\n",
    "    for i in range(x):\n",
    "        for j in range(y):\n",
    "            result[i][j] = GTAC_dict[origin_data[i][j+3]]\n",
    "    return result.astype('int32')    "
   ]
  },
  {
   "cell_type": "code",
   "execution_count": null,
   "metadata": {},
   "outputs": [],
   "source": [
    "Y = transform_data_Y(X_origin)\n",
    "Y"
   ]
  },
  {
   "cell_type": "code",
   "execution_count": null,
   "metadata": {
    "scrolled": true
   },
   "outputs": [],
   "source": [
    "pca_y = PCA()\n",
    "Y_pca = pca_y.fit_transform(Y)\n",
    "Y_pca.shape"
   ]
  },
  {
   "cell_type": "markdown",
   "metadata": {},
   "source": [
    "Using bijection to create GTAC_dict, we can preserve more nucleobase information and therefore construct more meaningful eigenvectors to represent out data."
   ]
  },
  {
   "cell_type": "markdown",
   "metadata": {},
   "source": [
    "### h)"
   ]
  },
  {
   "cell_type": "code",
   "execution_count": null,
   "metadata": {},
   "outputs": [],
   "source": [
    "Y_2 = Y_pca[:, :2]\n",
    "plt.xlabel('v1')\n",
    "plt.ylabel('v2')\n",
    "for population in population_dict.keys():\n",
    "    indexes = np.where(X_origin[:,2]==population)\n",
    "    scatter_plot = plt.scatter(Y_2[indexes,0], Y_2[indexes,1], c=population_dict[population], marker='.')\n",
    "plt.legend((population_dict.keys()), loc=2, bbox_to_anchor=(1.05,1.0),borderaxespad = 0.)\n",
    "plt.show();"
   ]
  },
  {
   "cell_type": "markdown",
   "metadata": {},
   "source": [
    "Comparing with picture in part **（b）**, we can hardly find the difference between them."
   ]
  },
  {
   "cell_type": "markdown",
   "metadata": {},
   "source": [
    "### i)"
   ]
  },
  {
   "cell_type": "code",
   "execution_count": null,
   "metadata": {},
   "outputs": [],
   "source": [
    "for i in range(3):\n",
    "    X_4 = X_pca[:,[i,3]]\n",
    "    plt.figure(figsize=(15,10))\n",
    "    plt.subplot(2, 2, 1)\n",
    "    plt.title(\"Population\")\n",
    "    plt.xlabel('v'+str(i+1))\n",
    "    plt.ylabel('v4')\n",
    "    for population in population_dict.keys():\n",
    "        indexes = np.where(X_origin[:,2]==population)\n",
    "        scatter_plot = plt.scatter(X_4[indexes,0], X_4[indexes,1], c=population_dict[population], marker='.')\n",
    "    plt.legend((population_dict.keys()), loc=2, bbox_to_anchor=(-0.3,1),borderaxespad = 0.)\n",
    "\n",
    "    plt.subplot(2, 2, 2)\n",
    "    plt.title(\"sex\")\n",
    "    plt.xlabel('v'+str(i+1))\n",
    "    plt.ylabel('v4')\n",
    "    for sex in sex_dict.keys():\n",
    "        indexes = np.where(X_origin[:,1]==sex)\n",
    "        scatter_plot = plt.scatter(X_4[indexes,0], X_4[indexes,1], c=sex_dict[sex], marker='.')\n",
    "    plt.legend((sex_dict.keys()), loc=2, bbox_to_anchor=(1.05,1.0),borderaxespad = 0.)\n",
    "plt.show();"
   ]
  },
  {
   "cell_type": "markdown",
   "metadata": {},
   "source": [
    "We can see that combine $v_4$ with one of the vector from $v_1$, $v_2$ and $v_3$, we can separate LWK people from the whole crowd. In other words, $v_4$ dominates the distribution of LWK population."
   ]
  },
  {
   "cell_type": "markdown",
   "metadata": {},
   "source": [
    "# Part 2"
   ]
  },
  {
   "cell_type": "markdown",
   "metadata": {},
   "source": [
    "### a)\n",
    "Least-squares for 1 dimensional vectors:\n",
    "\n",
    "$\\frac{<X-\\bar{X}, Y-\\bar{Y}>}{||X-\\bar{X}||^2_2}$"
   ]
  },
  {
   "cell_type": "code",
   "execution_count": 4,
   "metadata": {},
   "outputs": [],
   "source": [
    "X = np.array(range(1, 1001))/1000\n",
    "Y = 2*X"
   ]
  },
  {
   "cell_type": "code",
   "execution_count": 5,
   "metadata": {},
   "outputs": [],
   "source": [
    "LSQ_recover = lambda X, Y: (X-np.mean(X))@(Y-np.mean(Y)) / (np.linalg.norm(X-np.mean(X))**2)\n",
    "\n",
    "def PCA_recover(X, Y):\n",
    "    components = PCA(n_components=1).fit(np.concatenate([X.reshape(-1,1), Y.reshape(-1,1)], axis=1)).components_[0]\n",
    "    return components[1]/components[0]"
   ]
  },
  {
   "cell_type": "code",
   "execution_count": 6,
   "metadata": {},
   "outputs": [
    {
     "name": "stdout",
     "output_type": "stream",
     "text": [
      "2.0\n",
      "2.0\n"
     ]
    }
   ],
   "source": [
    "print(LSQ_recover(X, Y))\n",
    "print(PCA_recover(X, Y))"
   ]
  },
  {
   "cell_type": "markdown",
   "metadata": {},
   "source": [
    "### b)"
   ]
  },
  {
   "cell_type": "code",
   "execution_count": 11,
   "metadata": {},
   "outputs": [
    {
     "data": {
      "image/png": "[encoded data removed]",
      "text/plain": [
       "<matplotlib.figure.Figure at 0x7fa2c4e30320>"
      ]
     },
     "metadata": {},
     "output_type": "display_data"
    }
   ],
   "source": [
    "X = np.random.rand(1000)\n",
    "Y = np.random.rand(1000)\n",
    "plt.scatter(X,Y, s = 1)\n",
    "plt.show();"
   ]
  },
  {
   "cell_type": "code",
   "execution_count": 12,
   "metadata": {
    "scrolled": true
   },
   "outputs": [
    {
     "name": "stdout",
     "output_type": "stream",
     "text": [
      "-0.013498257180651445\n",
      "-0.21530605299749328\n"
     ]
    }
   ],
   "source": [
    "print(LSQ_recover(X, Y))\n",
    "print(PCA_recover(X, Y))"
   ]
  },
  {
   "cell_type": "markdown",
   "metadata": {},
   "source": [
    "We can see that both PCA and LS recover nothing about the random points."
   ]
  },
  {
   "cell_type": "markdown",
   "metadata": {},
   "source": [
    "### c) "
   ]
  },
  {
   "cell_type": "code",
   "execution_count": 9,
   "metadata": {
    "scrolled": false
   },
   "outputs": [
    {
     "data": {
      "image/png": "[encoded data removed]",
      "text/plain": [
       "<matplotlib.figure.Figure at 0x7fa2a00f10f0>"
      ]
     },
     "metadata": {},
     "output_type": "display_data"
    }
   ],
   "source": [
    "c_list = np.arange(0,0.505,0.05)\n",
    "times = 30\n",
    "for _ in range(times):\n",
    "    LSQ_temp = np.zeros(11)\n",
    "    PCA_temp = np.zeros(11)\n",
    "    for ci in range(len(c_list)):\n",
    "        c = c_list[ci]\n",
    "        X = np.arange(0.001, 1.001, 0.001)\n",
    "        Y = X*2 + np.random.normal(0, c, size=(1000,))\n",
    "        LSQ_temp[ci] = LSQ_recover(X, Y)\n",
    "        PCA_temp[ci] = np.abs(PCA_recover(X, Y))\n",
    "    plt.scatter(c_list, PCA_temp, c='r', s = 1)\n",
    "    plt.scatter(c_list, LSQ_temp, c='b', s = 1)\n",
    "plt.legend(('PCA','LSQ'))\n",
    "plt.show();"
   ]
  },
  {
   "cell_type": "markdown",
   "metadata": {},
   "source": [
    "### d)"
   ]
  },
  {
   "cell_type": "code",
   "execution_count": 10,
   "metadata": {},
   "outputs": [
    {
     "data": {
      "image/png": "[encoded data removed]",
      "text/plain": [
       "<matplotlib.figure.Figure at 0x7fa296998198>"
      ]
     },
     "metadata": {},
     "output_type": "display_data"
    }
   ],
   "source": [
    "c_list = np.arange(0,0.505,0.05)\n",
    "times = 30\n",
    "for _ in range(times):\n",
    "    LSQ_temp = np.zeros(11)\n",
    "    PCA_temp = np.zeros(11)\n",
    "    for ci in range(len(c_list)):\n",
    "        c = c_list[ci]\n",
    "        X = np.arange(0.001, 1.001, 0.001) + np.random.normal(0, c, size=(1000,))\n",
    "        Y = np.arange(0.002, 2.002, 0.002) + np.random.normal(0, c, size=(1000,))\n",
    "        LSQ_temp[ci] = LSQ_recover(X, Y)\n",
    "        PCA_temp[ci] = np.abs(PCA_recover(X, Y))\n",
    "    plt.scatter(c_list, PCA_temp, c='r', s = 1)\n",
    "    plt.scatter(c_list, LSQ_temp, c='b', s = 1)\n",
    "plt.legend(('PCA','LSQ'))\n",
    "plt.show();"
   ]
  },
  {
   "cell_type": "markdown",
   "metadata": {},
   "source": [
    "### e)"
   ]
  },
  {
   "cell_type": "markdown",
   "metadata": {},
   "source": [
    "When noise occurs only in $Y$, the first and second components of PCA forms a subspace of three dimension space with scalar of x, scalar of y, and the noise level. The first two componnent may both convey information of  these three kinds of meaning, but with different weight. Whlie the noise level becomes higher, the first component of PCA shows more preference to the noise, the structure  where $\\frac{y_{scalar}}{x_{x_{scalar}}}$ is destroyed and therefore the value of the slope of the first component is longer 2.\n",
    "\n",
    "When the nose occurs in both $X$ and $Y$ direction with the same level, these noise reveal little information about the data structure, so the first and second componnet of PCA preserve the information of scalar in y axis and scalar in x axis individually. Therefore, the value of the slop of the first component is nearly 2.\n",
    "\n",
    "From problem (b), we can see that, when data is generated totally randomly, LS gets value near to zero. From the perspective of c, when $c \\to \\infty$， we can treat that X and Y are generated totally randomly. This is the limits form of c. So, when c is increasing, the value of LS will decrease monotonically. This phenomena illustrate the poor performance of LS."
   ]
  },
  {
   "cell_type": "code",
   "execution_count": null,
   "metadata": {},
   "outputs": [],
   "source": []
  }
 ],
 "metadata": {
  "kernelspec": {
   "display_name": "Python 3",
   "language": "python",
   "name": "python3"
  },
  "language_info": {
   "codemirror_mode": {
    "name": "ipython",
    "version": 3
   },
   "file_extension": ".py",
   "mimetype": "text/x-python",
   "name": "python",
   "nbconvert_exporter": "python",
   "pygments_lexer": "ipython3",
   "version": "3.6.4"
  }
 },
 "nbformat": 4,
 "nbformat_minor": 2
}
