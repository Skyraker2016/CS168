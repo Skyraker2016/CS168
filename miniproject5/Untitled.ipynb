{
 "cells": [
  {
   "cell_type": "markdown",
   "metadata": {},
   "source": [
    "# Part 1\n",
    "a)尝试加载并使用数据\n",
    "b)log, TSVD 100, rank, save\n",
    "c)挑5列singular v, largest\\smallest 10, explain semantic\n",
    "d)norm row, v=v1-v2, norm v, projection\n",
    "e)\n",
    "    i) similarity metric, stanford\n",
    "    ii) analogy task\n",
    "    iii) try M按col归一化\n",
    "    \n",
    "\n",
    "# Part 2\n",
    "a)stripe\n",
    "b)k=..., recover\n",
    "c)sb\n",
    "d)压缩效果\n",
    "e)第800维"
   ]
  }
 ],
 "metadata": {
  "kernelspec": {
   "display_name": "Python 3",
   "language": "python",
   "name": "python3"
  },
  "language_info": {
   "codemirror_mode": {
    "name": "ipython",
    "version": 3
   },
   "file_extension": ".py",
   "mimetype": "text/x-python",
   "name": "python",
   "nbconvert_exporter": "python",
   "pygments_lexer": "ipython3",
   "version": "3.6.5"
  }
 },
 "nbformat": 4,
 "nbformat_minor": 2
}
