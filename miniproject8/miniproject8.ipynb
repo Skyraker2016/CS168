{
 "cells": [
  {
   "cell_type": "markdown",
   "metadata": {},
   "source": [
    "# part 1"
   ]
  },
  {
   "cell_type": "markdown",
   "metadata": {},
   "source": [
    "(a)  For each vector/signal depicted in the left column, 1) draw a line connecting it with the plot\n",
    "on the right of the magnitude of its (discrete) Fourier transform, and 2) write one sentence justifying\n",
    "your answer in a high-level intuitive way (e.g. “The Fourier transform of random noise is usual BLAH,\n",
    "and the plot at left looks like random noise and the plot at right looks like BLAH.”). So that you need\n",
    "to look at the shapes of the plots, the scale on the y-axis of the plots in the right column have been\n",
    "removed."
   ]
  },
  {
   "cell_type": "markdown",
   "metadata": {},
   "source": [
    "![image.png](Q1.png)"
   ]
  },
  {
   "cell_type": "code",
   "execution_count": 1,
   "metadata": {},
   "outputs": [],
   "source": [
    "# ff = np.abs(fft(np.concatenate((np.zeros(5),np.sin(np.arange(0,np.pi,np.pi/10)),np.zeros(5)), axis=0)))\n",
    "# plt.scatter(np.arange(0,len(ff)), ff)"
   ]
  },
  {
   "cell_type": "markdown",
   "metadata": {},
   "source": [
    "$$F[m] = \\sum_{j=0}^{N-1}f[j]e^{-2\\pi imj/N}$$\n",
    "* 1 -> 6 only contains direct component\n",
    "* 2 -> 3 $e^{-2\\pi i mj / n}$ magnitude is always 1\n",
    "* 3 -> 2 consists of many $e^{-2\\pi i mj / n}$, f[15] $\\neq$ 0\n",
    "* 4 -> 8 only F[15] = 2 \n",
    "* 5 -> 1 many value are zeros\n",
    "* 6 -> 7 \n",
    "* 7 -> 3 random noise with f[0] > 0"
   ]
  },
  {
   "cell_type": "markdown",
   "metadata": {},
   "source": [
    "# part 2"
   ]
  },
  {
   "cell_type": "markdown",
   "metadata": {},
   "source": [
    "(a) ) Given a six-sided die, let p be a 6-tuple where p[i] denotes probability that i+1 appears.\n",
    "Let q = p ∗ p ∗ · · · ∗ p\n",
    "100 times\n",
    ". What event occurs with probability q[150]? [Assume zero-index vectors.]"
   ]
  },
  {
   "cell_type": "markdown",
   "metadata": {},
   "source": [
    "$$q = p * p * p ... * p = F^{-1}(F(p) \\times F(p) \\times  ... F(p))$$"
   ]
  },
  {
   "cell_type": "code",
   "execution_count": 14,
   "metadata": {},
   "outputs": [],
   "source": [
    "import numpy as np\n",
    "from scipy.fftpack import fft, ifft"
   ]
  },
  {
   "cell_type": "code",
   "execution_count": 40,
   "metadata": {},
   "outputs": [
    {
     "data": {
      "text/plain": [
       "array([ 1.+0.j,  2.+0.j,  3.+0.j,  2.+0.j,  1.+0.j])"
      ]
     },
     "execution_count": 40,
     "metadata": {},
     "output_type": "execute_result"
    }
   ],
   "source": [
    "# ifft(fft([1,1,1,0,0]) ** 2)\n",
    "# ifft(fft([1,1,1,0,0,0]) ** 3)\n",
    "# ifft(fft([1,1,1,1,1,1,0,0,0,0,0,0]) ** 2)\n",
    "# ifft(fft([1,1,1,1,1,1,0,0,0,0,0]) ** 2)"
   ]
  },
  {
   "cell_type": "code",
   "execution_count": 48,
   "metadata": {},
   "outputs": [
    {
     "data": {
      "text/plain": [
       "(4.7998478873774076e-10+0j)"
      ]
     },
     "execution_count": 48,
     "metadata": {},
     "output_type": "execute_result"
    }
   ],
   "source": [
    "array = np.zeros(600-99)\n",
    "array[0:6] = np.ones(6) / 6\n",
    "ifft(fft(array) ** 100)[150]"
   ]
  },
  {
   "cell_type": "markdown",
   "metadata": {},
   "source": [
    "(b) Given an N-tuple f, define f^+ to be the 2N-tuple obtained by padding f with zeros:\n",
    "$$\n",
    "f^+[i] = \\begin{cases} f[i]~~~,& if 0 ≤ i ≤ N − 1\\\\\n",
    "0,& if N ≤ i ≤ 2N − 1 \\\\\\end{cases}\n",
    "$$\n",
    "Verify that convolution is multiplication under the Fourier transform: for any two N-tuples f and\n",
    "g, show that\n",
    "$$F(f ∗ g) = Ff^+ · Fg^+$$\n",
    "\n",
    "where · denotes element-wise multiplication. [You should not just quote the lecture notes—you\n",
    "must write out the calculation explicitly.] Suggest an implementation of convolution using the\n",
    "Fast Fourier Transform and its inverse transform. What is the analogous conclusion you can make\n",
    "when the two tuples have different lengths?"
   ]
  },
  {
   "cell_type": "markdown",
   "metadata": {},
   "source": [
    "<font color='blue'> From the polynomial perspective, we know that \n",
    "\n",
    "$$Ff \\cdot Fg = (f_0 + f_1x + f_2x^2 + ... + f_{n-1}x^{n-1})(g_0 + g_1x + g_2x^2 + ... + g_{n-1}x^{n-1})$$\n",
    "\n",
    "$$Ff^+ \\cdot Fg^+ =  (f_0 + f_1x + f_2x^2 + ... + f_{n-1}x^{n-1} + 0 x^n + 0 x^{n+1} + ... + 0 x^{2n-1})(g_0 + g_1x + g_2x^2 + ... + g_{n-1}x^{n-1} + 0 x^n + 0 x^{n+1} + ... + 0 x^{2n-1} = Ff \\cdot Fg$$\n",
    "\n",
    "$$\\therefore F(f * g) = Fg \\cdot Ff = F(f^+) \\cdot F(g^+) $$\n",
    "\n",
    "When the two tuples have different lengths, we need to pad then with zero until length $m + n - 1$"
   ]
  },
  {
   "cell_type": "markdown",
   "metadata": {},
   "source": [
    "(c) Using the Fast Fourier Transform (and its inverse transform), write a method multiply(x, y)\n",
    "that takes in two arrays of digits, each representing an integer (lower indices represent lower digits),\n",
    "and return an array that represents the product of the two integers. For example, the output\n",
    "of [0, 1, 2, 3] and [4, 5, 6] should be [0, 4, 3, 9, 9, 0, 2], representing the fact that 3, 210 × 654 =\n",
    "2, 099, 340. Using your code, what is the product of the following two numbers:\n",
    "x = 12345678901234567890, and y = 987654321098765432109876543210?\n",
    "[For this part, please embed your actual code in the solution, instead of including it in the\n",
    "appendix. Do not directly use convolution functions in your code.]"
   ]
  },
  {
   "cell_type": "markdown",
   "metadata": {},
   "source": [
    "<font color='blue'> $$x \\times y = F(F^{-1}x * F^{-1}y)$$\n",
    "\n",
    "Note that, the Fourier transform takes a vector representation of a polynomial and returens the evaluation at the roots of unity, then the inverse transform takes a vector representing the values of $P_v$ evaluated a the troots of unity, and returns the coefficients of the polynomial $P_v$. "
   ]
  },
  {
   "cell_type": "code",
   "execution_count": 109,
   "metadata": {},
   "outputs": [],
   "source": [
    "def multiply(x,y):\n",
    "    y = y[::-1]\n",
    "    length = x.shape[0] + y.shape[0] - 1\n",
    "    pad_x = np.zeros((length+y.shape[0]-1,1))\n",
    "    pad_x[y.shape[0]-1:y.shape[0]-1+x.shape[0]] = x\n",
    "    result = np.zeros((length+1,1))\n",
    "    for i in range(length):\n",
    "        result[i] = np.sum(pad_x[0+i:y.shape[0]+i] * y)\n",
    "    for i in range(length):\n",
    "        result[i+1] += result[i] // 10\n",
    "        result[i] %= 10\n",
    "    return result.reshape(-1)"
   ]
  },
  {
   "cell_type": "code",
   "execution_count": 110,
   "metadata": {},
   "outputs": [
    {
     "data": {
      "text/plain": [
       "array([ 0.,  4.,  3.,  9.,  9.,  0.,  2.])"
      ]
     },
     "execution_count": 110,
     "metadata": {},
     "output_type": "execute_result"
    }
   ],
   "source": [
    "multiply(np.array([0,1,2,3]).reshape(-1,1),\\\n",
    "         np.array([4,5,6]).reshape(-1,1))"
   ]
  },
  {
   "cell_type": "code",
   "execution_count": 111,
   "metadata": {},
   "outputs": [
    {
     "data": {
      "text/plain": [
       "array([ 9.,  6.,  2.,  5.,  3.,  6.,  2.,  1.,  1.,  1.,  1.,  0.,  8.,\n",
       "        3.,  6.,  4.,  7.,  3.,  2.,  2.,  4.,  6.,  0.,  7.,  5.,  6.,\n",
       "        9.,  4.,  2.,  2.,  5.,  9.,  7.,  1.,  2.,  0.,  7.,  3.,  1.,\n",
       "        1.,  3.,  6.,  2.,  3.,  9.,  1.,  2.,  1.,  0.,  0.])"
      ]
     },
     "execution_count": 111,
     "metadata": {},
     "output_type": "execute_result"
    }
   ],
   "source": [
    "multiply(np.array([1,2,3,4,5,6,7,8,9,0,1,2,3,4,5,6,7,8,9,0]).reshape(-1,1),\\\n",
    "         np.array([9,8,7,6,5,4,3,2,1,0,9,8,7,6,5,4,3,2,1,0,9,8,7,6,5,4,3,2,1,0]).reshape(-1,1))"
   ]
  },
  {
   "cell_type": "markdown",
   "metadata": {},
   "source": [
    "(d)  Compare the asymptotic run-time of this multiplication algorithm to that of the naive\n",
    "grade-school integer multiplication algorithm. Feel"
   ]
  },
  {
   "cell_type": "markdown",
   "metadata": {},
   "source": [
    "<font color='blue'> Suppose we multiply two integer with length $m,n$. Since multiplication is much more time consuming, here we merely consider  the time complexity of multiplication.\n",
    "For Fast Fourier Transform, the asymptotic run-times is $O((m+n-1)\\log(m+n-1))$ since we can use convolution operator to get the result directly and the convolution operator has $O((m+n-1)\\log(m+n-1))$ time complexity. On the other hand, the naive grade-school inter multiplication need $O(mn)$ time complexity."
   ]
  },
  {
   "cell_type": "markdown",
   "metadata": {},
   "source": [
    "(e) (Bonus: 2 points) For your implementation for part (c), roughly how large can the inputs be for\n",
    "the method to return accurate results? Justify your response via experiments and a discussion\n",
    "of the Fourier transform and the known limitations of your program environment (i.e. number of\n",
    "significant bits stored, etc.).\n",
    "Deliverables: answer for (a); calcul"
   ]
  },
  {
   "cell_type": "code",
   "execution_count": 133,
   "metadata": {},
   "outputs": [
    {
     "name": "stdout",
     "output_type": "stream",
     "text": [
      "100000\n"
     ]
    }
   ],
   "source": [
    "def createBigNumber(n):\n",
    "    return np.ones((n,1)) * 9, Numpy2int(np.ones((n,1)) * 9)\n",
    "\n",
    "def Numpy2int(result):\n",
    "    return int(''.join(str(int(i)) for i in result[::-1]))\n",
    "\n",
    "n = 100000\n",
    "while True:\n",
    "    print(n)\n",
    "    a, i_a = createBigNumber(n)\n",
    "    b, i_b = createBigNumber(n)\n",
    "    result = multiply(a,b);\n",
    "    assert Numpy2int(result) == i_a * i_b\n",
    "    break"
   ]
  },
  {
   "cell_type": "markdown",
   "metadata": {},
   "source": [
    "<font color='blue'> The scale of the number is limited by the memory of the computer. Since my code is good enough, I could not find the exact number of significant bits that the output is not accurate. Since python can automatically extent the integer, integer overflow will never occur and therefore, the limitation of my program environment if the memory of the computer."
   ]
  }
 ],
 "metadata": {
  "kernelspec": {
   "display_name": "Python 3",
   "language": "python",
   "name": "python3"
  },
  "language_info": {
   "codemirror_mode": {
    "name": "ipython",
    "version": 3
   },
   "file_extension": ".py",
   "mimetype": "text/x-python",
   "name": "python",
   "nbconvert_exporter": "python",
   "pygments_lexer": "ipython3",
   "version": "3.6.5"
  }
 },
 "nbformat": 4,
 "nbformat_minor": 2
}
