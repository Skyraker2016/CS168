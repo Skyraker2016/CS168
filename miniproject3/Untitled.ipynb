{
 "cells": [
  {
   "cell_type": "markdown",
   "metadata": {},
   "source": [
    "# Part 1: Regression, Three Ways"
   ]
  },
  {
   "cell_type": "markdown",
   "metadata": {},
   "source": [
    "a)\n",
    "1. 生成数据集，用闭式解直接得出a\n",
    "b)\n",
    "2. 回答，什么是$a_t$的梯度。\n",
    "3. 用梯度下降找近似解，三种学习率，带初始化，画图，评论，时间\n",
    "c)\n",
    "4. 用SGD，三种学习率，1000iters，画图，评论，比较，时间，要用第二问的metric作比较。"
   ]
  },
  {
   "cell_type": "markdown",
   "metadata": {},
   "source": [
    "# Part 2"
   ]
  },
  {
   "cell_type": "markdown",
   "metadata": {},
   "source": [
    "d = train_n\n",
    "a)\n",
    "1. 用公式计算baseline，不带re。计算training error and test error，10次平均，归一化\n",
    "b)\n",
    "2. 用闭式解求a，记录error,画图。7个$\\lambda$。10次平均。评论与a对比，画图\n",
    "c)\n",
    "3. 初始化0，1,000,000iters，3$\\lambda$,2error,avg10,与第一问4作比较。与a作比较。解释\n",
    "d)\n",
    "4. 画图train error，true_a 横线\n",
    "5. 再画图，test error，1更新/100iters\n",
    "6. 最后画一次图。l2\n",
    "画完图，bb\n",
    "e)fix lambda， initiallize point。画图avg 2error。b作为baseline"
   ]
  },
  {
   "cell_type": "markdown",
   "metadata": {},
   "source": [
    "# Part3\n",
    "不择手段"
   ]
  },
  {
   "cell_type": "code",
   "execution_count": null,
   "metadata": {},
   "outputs": [],
   "source": []
  }
 ],
 "metadata": {
  "kernelspec": {
   "display_name": "Python 3",
   "language": "python",
   "name": "python3"
  },
  "language_info": {
   "codemirror_mode": {
    "name": "ipython",
    "version": 3
   },
   "file_extension": ".py",
   "mimetype": "text/x-python",
   "name": "python",
   "nbconvert_exporter": "python",
   "pygments_lexer": "ipython3",
   "version": "3.6.5"
  }
 },
 "nbformat": 4,
 "nbformat_minor": 2
}
