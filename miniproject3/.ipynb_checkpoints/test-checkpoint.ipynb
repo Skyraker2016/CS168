{
 "cells": [
  {
   "cell_type": "code",
   "execution_count": 1,
   "metadata": {},
   "outputs": [],
   "source": [
    "import numpy as np"
   ]
  },
  {
   "cell_type": "code",
   "execution_count": 2,
   "metadata": {},
   "outputs": [],
   "source": [
    "#using another metric, y2 is the real ture output\n",
    "def NormMSELoss(y1, y2):\n",
    "    return np.sqrt(np.sum((y1 - y2)**2)/np.sum(y2**2))"
   ]
  },
  {
   "cell_type": "code",
   "execution_count": 3,
   "metadata": {},
   "outputs": [],
   "source": [
    "#initialize variable to get the avg error\n",
    "train_n = 100\n",
    "test_n = 1000\n",
    "d = 100\n",
    "X_train = np.random.normal(0,1, size=(train_n,d))\n",
    "a_true = np.random.normal(0,1, size=(d,1))\n",
    "y_train = X_train.dot(a_true) + np.random.normal(0,0.5,size=(train_n,1))\n",
    "X_test = np.random.normal(0,1, size=(test_n,d))\n",
    "y_test = X_test.dot(a_true) + np.random.normal(0,0.5,size=(test_n,1))\n",
    "\n",
    "def init():\n",
    "    global train_n, test_n, d, X_train, a_true, y_train, X_test, y_test\n",
    "    X_train = np.random.normal(0,1, size=(train_n,d))\n",
    "    a_true = np.random.normal(0,1, size=(d,1))\n",
    "    y_train = X_train.dot(a_true) + np.random.normal(0,0.5,size=(train_n,1))\n",
    "    X_test = np.random.normal(0,1, size=(test_n,d))\n",
    "    y_test = X_test.dot(a_true) + np.random.normal(0,0.5,size=(test_n,1))"
   ]
  },
  {
   "cell_type": "code",
   "execution_count": 4,
   "metadata": {},
   "outputs": [
    {
     "name": "stdout",
     "output_type": "stream",
     "text": [
      "training error =  1.9309100148135368e-14\n",
      "test error =  0.5825090495056962\n"
     ]
    }
   ],
   "source": [
    "training_error = 0\n",
    "test_error = 0\n",
    "\n",
    "for _ in range(10):\n",
    "    init()\n",
    "    a_base = np.linalg.inv(X_train) @ y_train\n",
    "    training_error += NormMSELoss(X_train @ a_base, y_train)\n",
    "    test_error += NormMSELoss(X_test @ a_base, y_test)\n",
    "print('training error = ', training_error/10)\n",
    "print('test error = ', test_error/10)"
   ]
  },
  {
   "cell_type": "code",
   "execution_count": 13,
   "metadata": {},
   "outputs": [
    {
     "name": "stdout",
     "output_type": "stream",
     "text": [
      "|lambda|training error|test error|\n",
      "0.8442547109509546\n",
      "0.8905881856403406\n",
      "0.5529459472137327\n",
      "1.7471015352402117\n",
      "0.7513354696737404\n",
      "0.38240476553257735\n",
      "0.5430439079806509\n",
      "0.6842318323334645\n",
      "0.33272177363851063\n",
      "0.46050825350299807\n",
      "| 5e-05|      0.000058|   0.71891|\n",
      "0.3601157025105472\n",
      "1.044206224782197\n",
      "0.3441597096658937\n",
      "0.9416754381917641\n",
      "0.5256322068779685\n",
      "0.6734169220690245\n",
      "0.6728221647337927\n",
      "1.1659851370239553\n",
      "0.4204087389323244\n",
      "0.5120684600556573\n",
      "|0.0005|      0.000696|   0.66605|\n",
      "0.43099701093951875\n",
      "0.5023537530017\n",
      "0.24359989555555253\n",
      "0.46162574130217854\n",
      "0.36891979501512084\n",
      "0.597082704473069\n",
      "0.543307182815696\n",
      "0.43506771065213756\n",
      "0.2719773020818023\n",
      "0.45188958001612\n",
      "| 0.005|      0.003306|   0.43068|\n",
      "0.19672767477012557\n",
      "0.18516139254370245\n",
      "0.3260843777346317\n",
      "0.19458100677730597\n",
      "0.21653485241919546\n",
      "0.26368612134550035\n",
      "0.2070712837890159\n",
      "0.19555681964174204\n",
      "0.1953409301957495\n",
      "0.24595949116176385\n",
      "|  0.05|      0.005369|   0.22267|\n",
      "0.20000693572554992\n",
      "0.27971017243839513\n",
      "0.2817937149765357\n",
      "0.24418247973086935\n",
      "0.17406513979061655\n",
      "0.2492477931335163\n",
      "0.2300069867506724\n",
      "0.23652994574727373\n",
      "0.2995210768032451\n",
      "0.29695864463889354\n",
      "|   0.5|      0.014822|   0.24920|\n",
      "0.4008964503714958\n",
      "0.30909681487243523\n",
      "0.3014383136666954\n",
      "0.31078426059004144\n",
      "0.4248387763584954\n",
      "0.4123196724091432\n",
      "0.32230347619696964\n",
      "0.369901713775935\n",
      "0.33288197723517277\n",
      "0.369550757172062\n",
      "|     5|      0.067064|   0.35540|\n",
      "0.656898466147874\n",
      "0.5828195259487973\n",
      "0.5947285639678539\n",
      "0.5586879542661045\n",
      "0.5988047944570084\n",
      "0.5816733271910545\n",
      "0.5938461044421066\n",
      "0.607377218011765\n",
      "0.5934308614479965\n",
      "0.515964312387006\n",
      "|    50|      0.299835|   0.58842|\n",
      "0.8496356643794523\n",
      "0.8497884703348217\n",
      "0.8383474978847307\n",
      "0.8710511078593032\n",
      "0.8484383104910763\n",
      "0.8502645552947922\n",
      "0.8698578731695535\n",
      "0.8736733583645064\n",
      "0.8964873718239825\n",
      "0.8612717664402961\n",
      "|   500|      0.734165|   0.86088|\n"
     ]
    }
   ],
   "source": [
    "lambda_list = [0.00005, 0.0005,0.005,0.05,0.5,5,50,500]\n",
    "training_error_base = []\n",
    "test_error_base = []\n",
    "print('|lambda|training error|test error|')\n",
    "for i in range(len(lambda_list)):\n",
    "    training_error = 0\n",
    "    test_error = 0\n",
    "    count = 0\n",
    "    for _ in range(10):\n",
    "        init()\n",
    "        a_base = np.linalg.inv(X_train.T @ X_train + lambda_list[i] * np.eye(len(X_train)))@X_train.T@y_train\n",
    "        training_error += NormMSELoss(X_train @ a_base, y_train)\n",
    "        test_error += NormMSELoss(X_test @ a_base, y_test)\n",
    "    training_error_base.append(training_error/10)\n",
    "    test_error_base.append(test_error/10)\n",
    "    \n",
    "    print('|%6.4g|      %6lf|  %8.5lf|' %(lambda_list[i], training_error_base[i],test_error_base[i]))\n",
    "    \n",
    "#construct error dictionary\n",
    "training_error_base_dic = dict(zip(lambda_list,training_error_base))\n",
    "test_error_base_dic = dict(zip(lambda_list,test_error_base))"
   ]
  },
  {
   "cell_type": "code",
   "execution_count": null,
   "metadata": {},
   "outputs": [],
   "source": []
  }
 ],
 "metadata": {
  "kernelspec": {
   "display_name": "Python 3",
   "language": "python",
   "name": "python3"
  },
  "language_info": {
   "codemirror_mode": {
    "name": "ipython",
    "version": 3
   },
   "file_extension": ".py",
   "mimetype": "text/x-python",
   "name": "python",
   "nbconvert_exporter": "python",
   "pygments_lexer": "ipython3",
   "version": "3.6.6"
  }
 },
 "nbformat": 4,
 "nbformat_minor": 2
}
