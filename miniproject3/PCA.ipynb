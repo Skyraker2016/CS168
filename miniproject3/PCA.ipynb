{
 "cells": [
  {
   "cell_type": "code",
   "execution_count": 1,
   "metadata": {},
   "outputs": [],
   "source": [
    "import numpy as np\n",
    "import matplotlib.pyplot as plt\n",
    "import time"
   ]
  },
  {
   "cell_type": "code",
   "execution_count": 2,
   "metadata": {},
   "outputs": [],
   "source": [
    "#generate data\n",
    "train_n = 100\n",
    "test_n = 10000\n",
    "d = 200\n",
    "X_train = np.random.normal(0,1, size=(train_n,d))\n",
    "a_true = np.random.normal(0,1, size=(d,1))\n",
    "y_train = X_train.dot(a_true) + np.random.normal(0,0.5,size=(train_n,1))\n",
    "X_test = np.random.normal(0,1, size=(test_n,d))\n",
    "y_test = X_test.dot(a_true) + np.random.normal(0,0.5,size=(test_n,1))"
   ]
  },
  {
   "cell_type": "code",
   "execution_count": 3,
   "metadata": {},
   "outputs": [],
   "source": [
    "def GetSMatrix(X):\n",
    "    S = np.zeros((len(X[0]),len(X[0])))\n",
    "    mean = np.mean(X, axis = 0).reshape(-1,1)\n",
    "    for x in X:\n",
    "        xx = x.reshape(-1,1)\n",
    "        S += (xx - mean) @ (xx - mean).T\n",
    "    return S\n",
    "\n",
    "def GetMainVector(X, dimension):\n",
    "    S = GetSMatrix(X)\n",
    "    eigvalue, eigvector = np.linalg.eig(S)\n",
    "    #kmax_eigvalue = eigvalue.argsort()[-dimension:]\n",
    "    kmax_eigvalue_index = np.argpartition(eigvalue, -dimension)[-dimension:]\n",
    "    W = eigvector[:,kmax_eigvalue_index]\n",
    "    return W"
   ]
  },
  {
   "cell_type": "code",
   "execution_count": 4,
   "metadata": {},
   "outputs": [
    {
     "name": "stdout",
     "output_type": "stream",
     "text": [
      "(100, 150)\n",
      "(100, 1)\n"
     ]
    }
   ],
   "source": [
    "dimension = 150\n",
    "M = GetMainVector(X_train, dimension)\n",
    "X_train = X_train @ M\n",
    "X_test = X_test @ M\n",
    "print(X_train.shape)\n",
    "print(y_train.shape)"
   ]
  },
  {
   "cell_type": "code",
   "execution_count": 5,
   "metadata": {},
   "outputs": [],
   "source": [
    "def getGradient(X, y, a, index, lambda_value = 0):\n",
    "    #gradient below is for index -> a_t\n",
    "    #gradient = 2 * (X@a  - y).T @ (X[:,index])\n",
    "    #now change into index -> x_i\n",
    "    gradient = (2 * (X[index]@a-y[index]) * X[index]).reshape(-1,1) + (2 * lambda_value * a).reshape(-1,1)\n",
    "    return gradient.reshape((-1,1))\n",
    "#using another metric, y2 is the real ture output\n",
    "def NormMSELoss(y1, y2):\n",
    "    return np.sqrt(np.sum((y1 - y2)**2))/np.sqrt(np.sum(y2**2))\n",
    "def SGDTrain(X, y, step_size, iters, metric, batch_size=1, evaluate = False, lambda_value = 0, random_radius = 0):\n",
    "    a = np.random.uniform(0,random_radius, size = (len(X[0]),1))\n",
    "    obj_value = np.zeros(iters+1)\n",
    "    test_error = np.zeros(iters//100 + 1)\n",
    "    obj_value[0] = metric(X @ a, y)\n",
    "    if evaluate:\n",
    "        global X_test, y_test\n",
    "        test_error[0] = metric(X_test @ a, y_test)\n",
    "    for i in range(iters):\n",
    "        gd = np.zeros((len(X[0]),1))\n",
    "        indexs = np.array(range(len(X)))\n",
    "        np.random.shuffle(indexs)\n",
    "        for index_i in range(batch_size):\n",
    "            index = indexs[index_i]\n",
    "            gd += getGradient(X, y, a, index, lambda_value).astype(np.float64)\n",
    "        #update a with gradient\n",
    "        a = a - step_size * gd\n",
    "        obj_value[i+1] = metric(X @ a, y)\n",
    "        if evaluate and (i+1) % 100 == 0:\n",
    "            test_error[(i+1)//100] = metric(X_test @ a, y_test)\n",
    "    if evaluate:\n",
    "        return obj_value, test_error\n",
    "    else:\n",
    "        return obj_value"
   ]
  },
  {
   "cell_type": "code",
   "execution_count": 6,
   "metadata": {},
   "outputs": [
    {
     "data": {
      "text/plain": [
       "<matplotlib.figure.Figure at 0x7f6f9457b2b0>"
      ]
     },
     "execution_count": 6,
     "metadata": {},
     "output_type": "execute_result"
    },
    {
     "name": "stderr",
     "output_type": "stream",
     "text": [
      "/home/temple/anaconda3/lib/python3.6/site-packages/ipykernel_launcher.py:14: ComplexWarning: Casting complex values to real discards the imaginary part\n",
      "  \n",
      "/home/temple/anaconda3/lib/python3.6/site-packages/ipykernel_launcher.py:17: ComplexWarning: Casting complex values to real discards the imaginary part\n",
      "/home/temple/anaconda3/lib/python3.6/site-packages/ipykernel_launcher.py:24: ComplexWarning: Casting complex values to real discards the imaginary part\n",
      "/home/temple/anaconda3/lib/python3.6/site-packages/ipykernel_launcher.py:27: ComplexWarning: Casting complex values to real discards the imaginary part\n",
      "/home/temple/anaconda3/lib/python3.6/site-packages/ipykernel_launcher.py:29: ComplexWarning: Casting complex values to real discards the imaginary part\n"
     ]
    },
    {
     "name": "stdout",
     "output_type": "stream",
     "text": [
      "|    5e-05|      0.004207|  0.721148|\n"
     ]
    },
    {
     "data": {
      "text/plain": [
       "<matplotlib.axes._subplots.AxesSubplot at 0x7f6f94932e48>"
      ]
     },
     "execution_count": 6,
     "metadata": {},
     "output_type": "execute_result"
    },
    {
     "data": {
      "text/plain": [
       "Text(0.5,1,'step size = 5e-05')"
      ]
     },
     "execution_count": 6,
     "metadata": {},
     "output_type": "execute_result"
    },
    {
     "data": {
      "text/plain": [
       "Text(0.5,0,'iteraion')"
      ]
     },
     "execution_count": 6,
     "metadata": {},
     "output_type": "execute_result"
    },
    {
     "data": {
      "text/plain": [
       "Text(0,0.5,'normalized error')"
      ]
     },
     "execution_count": 6,
     "metadata": {},
     "output_type": "execute_result"
    },
    {
     "data": {
      "text/plain": [
       "[<matplotlib.lines.Line2D at 0x7f6f878e8ba8>]"
      ]
     },
     "execution_count": 6,
     "metadata": {},
     "output_type": "execute_result"
    },
    {
     "data": {
      "text/plain": [
       "[<matplotlib.lines.Line2D at 0x7f6f878e8da0>]"
      ]
     },
     "execution_count": 6,
     "metadata": {},
     "output_type": "execute_result"
    },
    {
     "data": {
      "text/plain": [
       "<matplotlib.legend.Legend at 0x7f6f879006a0>"
      ]
     },
     "execution_count": 6,
     "metadata": {},
     "output_type": "execute_result"
    },
    {
     "name": "stdout",
     "output_type": "stream",
     "text": [
      "|   0.0005|      0.000531|  0.115127|\n"
     ]
    },
    {
     "data": {
      "text/plain": [
       "<matplotlib.axes._subplots.AxesSubplot at 0x7f6f87900940>"
      ]
     },
     "execution_count": 6,
     "metadata": {},
     "output_type": "execute_result"
    },
    {
     "data": {
      "text/plain": [
       "Text(0.5,1,'step size = 0.0005')"
      ]
     },
     "execution_count": 6,
     "metadata": {},
     "output_type": "execute_result"
    },
    {
     "data": {
      "text/plain": [
       "Text(0.5,0,'iteraion')"
      ]
     },
     "execution_count": 6,
     "metadata": {},
     "output_type": "execute_result"
    },
    {
     "data": {
      "text/plain": [
       "Text(0,0.5,'normalized error')"
      ]
     },
     "execution_count": 6,
     "metadata": {},
     "output_type": "execute_result"
    },
    {
     "data": {
      "text/plain": [
       "[<matplotlib.lines.Line2D at 0x7f6f9458e278>]"
      ]
     },
     "execution_count": 6,
     "metadata": {},
     "output_type": "execute_result"
    },
    {
     "data": {
      "text/plain": [
       "[<matplotlib.lines.Line2D at 0x7f6f9456eeb8>]"
      ]
     },
     "execution_count": 6,
     "metadata": {},
     "output_type": "execute_result"
    },
    {
     "data": {
      "text/plain": [
       "<matplotlib.legend.Legend at 0x7f6f87946668>"
      ]
     },
     "execution_count": 6,
     "metadata": {},
     "output_type": "execute_result"
    },
    {
     "data": {
      "image/png": "[encoded data removed]",
      "text/plain": [
       "<matplotlib.figure.Figure at 0x7f6f9457b2b0>"
      ]
     },
     "metadata": {},
     "output_type": "display_data"
    },
    {
     "name": "stdout",
     "output_type": "stream",
     "text": [
      "average running time = 29.7529225 s\n"
     ]
    }
   ],
   "source": [
    "trial_times = 1\n",
    "train_iter = 100000\n",
    "step_size_list =  [0.00005,0.0005]\n",
    "plt.figure(figsize=(3*(len(step_size_list)+3.5),(len(step_size_list)+3.5)));\n",
    "\n",
    "total_running_time = 0\n",
    "for i in range(len(step_size_list)):\n",
    "    #for 10 times\n",
    "    running_time = 0\n",
    "    total_training_errors = np.zeros(train_iter+1)\n",
    "    total_test_errors = np.zeros(train_iter//100+1)\n",
    "    \n",
    "    for _ in range(trial_times):\n",
    "        running_start = time.clock()\n",
    "        training_errors, test_errors = SGDTrain(X_train, y_train, step_size_list[i], train_iter,\\\n",
    "                                             NormMSELoss, evaluate = True)\n",
    "        running_time += time.clock() - running_start\n",
    "        total_training_errors += training_errors\n",
    "        total_test_errors += test_errors\n",
    "\n",
    "    total_running_time += running_time / trial_times\n",
    "    \n",
    "    print('|%9.4g|      %6lf|  %6lf|' %(step_size_list[i], \\\n",
    "                                        total_training_errors[-1]/trial_times, \\\n",
    "                                        total_test_errors[-1]/trial_times))\n",
    "    \n",
    "    x_index1 = list(range(0,train_iter+1,1))\n",
    "    x_index2 = list(range(0,train_iter+1,100))\n",
    "    \n",
    "    plt.subplot(1,len(step_size_list),i+1);\n",
    "    plt.title('step size = ' + str(step_size_list[i]));\n",
    "    plt.xlabel('iteraion');\n",
    "    plt.ylabel('normalized error');\n",
    "    plt.plot(x_index1, total_training_errors/trial_times);\n",
    "    plt.plot(x_index2, total_test_errors/trial_times);\n",
    "    \n",
    "    #draw base line\n",
    "    plt.legend(['training error', 'test error'],\\\n",
    "              bbox_to_anchor = (0,-0.2), loc = 3, ncol = 2);\n",
    "\n",
    "plt.show();\n",
    "print('average running time =', total_running_time / len(step_size_list), 's')"
   ]
  },
  {
   "cell_type": "code",
   "execution_count": null,
   "metadata": {},
   "outputs": [],
   "source": []
  },
  {
   "cell_type": "code",
   "execution_count": null,
   "metadata": {},
   "outputs": [],
   "source": []
  }
 ],
 "metadata": {
  "kernelspec": {
   "display_name": "Python 3",
   "language": "python",
   "name": "python3"
  },
  "language_info": {
   "codemirror_mode": {
    "name": "ipython",
    "version": 3
   },
   "file_extension": ".py",
   "mimetype": "text/x-python",
   "name": "python",
   "nbconvert_exporter": "python",
   "pygments_lexer": "ipython3",
   "version": "3.6.4"
  }
 },
 "nbformat": 4,
 "nbformat_minor": 2
}
