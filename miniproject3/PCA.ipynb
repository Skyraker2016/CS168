{
 "cells": [
  {
   "cell_type": "code",
   "execution_count": 1,
   "metadata": {},
   "outputs": [],
   "source": [
    "import numpy as np\n",
    "import matplotlib.pyplot as plt\n",
    "import time"
   ]
  },
  {
   "cell_type": "code",
   "execution_count": 2,
   "metadata": {},
   "outputs": [],
   "source": [
    "#generate data\n",
    "train_n = 100\n",
    "test_n = 10000\n",
    "d = 200\n",
    "X_train = np.random.normal(0,1, size=(train_n,d))\n",
    "a_true = np.random.normal(0,1, size=(d,1))\n",
    "y_train = X_train.dot(a_true) + np.random.normal(0,0.5,size=(train_n,1))\n",
    "X_test = np.random.normal(0,1, size=(test_n,d))\n",
    "y_test = X_test.dot(a_true) + np.random.normal(0,0.5,size=(test_n,1))\n",
    "def GetSMatrix(X):\n",
    "    S = np.zeros((len(X[0]),len(X[0])))\n",
    "    mean = np.mean(X, axis = 0).reshape(-1,1)\n",
    "    for x in X:\n",
    "        xx = x.reshape(-1,1)\n",
    "        S += (xx - mean) @ (xx - mean).T\n",
    "    return S\n",
    "\n",
    "def GetMainVector(X, dimension):\n",
    "    S = GetSMatrix(X)\n",
    "    print(S)\n",
    "    eigvalue, eigvector = np.linalg.eigh(S)\n",
    "    #kmax_eigvalue = eigvalue.argsort()[-dimension:]\n",
    "    kmax_eigvalue_index = np.argpartition(eigvalue, -dimension)[-dimension:]\n",
    "    W = eigvector[:,kmax_eigvalue_index]\n",
    "    return W"
   ]
  },
  {
   "cell_type": "code",
   "execution_count": 3,
   "metadata": {
    "scrolled": false
   },
   "outputs": [
    {
     "name": "stdout",
     "output_type": "stream",
     "text": [
      "[[ 94.55508966   9.28595662   6.4435885  ...   6.20465709  -6.66733096\n",
      "   -5.27286701]\n",
      " [  9.28595662 127.05790679 -17.43306672 ...  12.43083205  -6.26245312\n",
      "    6.84930723]\n",
      " [  6.4435885  -17.43306672 101.92612724 ...  10.25415456   9.33943136\n",
      "   -1.69572558]\n",
      " ...\n",
      " [  6.20465709  12.43083205  10.25415456 ... 111.02231646  21.44294236\n",
      "   -1.43558879]\n",
      " [ -6.66733096  -6.26245312   9.33943136 ...  21.44294236 116.11306258\n",
      "   -8.24218155]\n",
      " [ -5.27286701   6.84930723  -1.69572558 ...  -1.43558879  -8.24218155\n",
      "   96.15998255]]\n",
      "[[ 0.18844435 -0.03060548  0.04318152 ... -0.0385833  -0.11059212\n",
      "   0.05726139]\n",
      " [-0.03823688 -0.09748092  0.10139716 ... -0.09305632  0.00603252\n",
      "   0.19743594]\n",
      " [ 0.02524093 -0.02748618  0.17001876 ... -0.07311423  0.02584964\n",
      "  -0.01940351]\n",
      " ...\n",
      " [ 0.11627583  0.06537957  0.05559377 ... -0.06581212  0.08736325\n",
      "  -0.07124161]\n",
      " [-0.0686028  -0.0617313   0.03228714 ...  0.04964136  0.01160801\n",
      "  -0.01773225]\n",
      " [-0.02009836  0.01686156  0.00224123 ... -0.14729952  0.13844713\n",
      "  -0.03297288]]\n"
     ]
    }
   ],
   "source": [
    "dimension = 50\n",
    "M = GetMainVector(X_train, dimension)\n",
    "print(M)\n",
    "X_train = X_train @ M\n",
    "X_test = X_test @ M"
   ]
  },
  {
   "cell_type": "code",
   "execution_count": 4,
   "metadata": {},
   "outputs": [],
   "source": [
    "def getGradient(X, y, a, index, lambda_value = 0):\n",
    "    #gradient below is for index -> a_t\n",
    "    #gradient = 2 * (X@a  - y).T @ (X[:,index])\n",
    "    #now change into index -> x_i\n",
    "    gradient = (2 * (X[index]@a-y[index]) * X[index]).reshape(-1,1) + (2 * lambda_value * a).reshape(-1,1)\n",
    "    return gradient.reshape((-1,1))\n",
    "#using another metric, y2 is the real ture output\n",
    "def NormMSELoss(y1, y2):\n",
    "    return np.sqrt(np.sum((y1 - y2)**2))/np.sqrt(np.sum(y2**2))\n",
    "def SGDTrain(X, y, step_size, iters, metric, batch_size=1, evaluate = False, lambda_value = 0, random_radius = 0):\n",
    "    a = np.random.uniform(0,random_radius, size = (len(X[0]),1))\n",
    "    obj_value = np.zeros(iters+1)\n",
    "    test_error = np.zeros(iters//100 + 1)\n",
    "    obj_value[0] = metric(X @ a, y)\n",
    "    if evaluate:\n",
    "        global X_test, y_test\n",
    "        test_error[0] = metric(X_test @ a, y_test)\n",
    "    for i in range(iters):\n",
    "        gd = np.zeros((len(X[0]),1))\n",
    "        indexs = np.array(range(len(X)))\n",
    "        np.random.shuffle(indexs)\n",
    "        for index_i in range(batch_size):\n",
    "            index = indexs[index_i]\n",
    "            gd += getGradient(X, y, a, index, lambda_value).astype(np.float64)\n",
    "        #update a with gradient\n",
    "        a = a - step_size * gd\n",
    "        obj_value[i+1] = metric(X @ a, y)\n",
    "        if evaluate and (i+1) % 100 == 0:\n",
    "            test_error[(i+1)//100] = metric(X_test @ a, y_test)\n",
    "    if evaluate:\n",
    "        return obj_value, test_error\n",
    "    else:\n",
    "        return obj_value"
   ]
  },
  {
   "cell_type": "code",
   "execution_count": 6,
   "metadata": {},
   "outputs": [
    {
     "data": {
      "text/plain": [
       "<matplotlib.figure.Figure at 0x7f2ff220eb38>"
      ]
     },
     "execution_count": 6,
     "metadata": {},
     "output_type": "execute_result"
    },
    {
     "data": {
      "text/plain": [
       "<matplotlib.axes._subplots.AxesSubplot at 0x7f2ffedf70f0>"
      ]
     },
     "execution_count": 6,
     "metadata": {},
     "output_type": "execute_result"
    },
    {
     "data": {
      "text/plain": [
       "Text(0.5,1,'batch size = 10')"
      ]
     },
     "execution_count": 6,
     "metadata": {},
     "output_type": "execute_result"
    },
    {
     "data": {
      "text/plain": [
       "Text(0.5,0,'iteraion')"
      ]
     },
     "execution_count": 6,
     "metadata": {},
     "output_type": "execute_result"
    },
    {
     "data": {
      "text/plain": [
       "Text(0,0.5,'normalized error')"
      ]
     },
     "execution_count": 6,
     "metadata": {},
     "output_type": "execute_result"
    },
    {
     "data": {
      "text/plain": [
       "[<matplotlib.lines.Line2D at 0x7f2ff2202748>]"
      ]
     },
     "execution_count": 6,
     "metadata": {},
     "output_type": "execute_result"
    },
    {
     "data": {
      "text/plain": [
       "[<matplotlib.lines.Line2D at 0x7f2ff2202978>]"
      ]
     },
     "execution_count": 6,
     "metadata": {},
     "output_type": "execute_result"
    },
    {
     "name": "stdout",
     "output_type": "stream",
     "text": [
      "batch size:  10; final testing error: 0.841594; final training error: 0.513641  \n"
     ]
    },
    {
     "data": {
      "text/plain": [
       "<matplotlib.legend.Legend at 0x7f2ff2202e80>"
      ]
     },
     "execution_count": 6,
     "metadata": {},
     "output_type": "execute_result"
    },
    {
     "data": {
      "text/plain": [
       "<matplotlib.axes._subplots.AxesSubplot at 0x7f2ff23934a8>"
      ]
     },
     "execution_count": 6,
     "metadata": {},
     "output_type": "execute_result"
    },
    {
     "data": {
      "text/plain": [
       "Text(0.5,1,'batch size = 25')"
      ]
     },
     "execution_count": 6,
     "metadata": {},
     "output_type": "execute_result"
    },
    {
     "data": {
      "text/plain": [
       "Text(0.5,0,'iteraion')"
      ]
     },
     "execution_count": 6,
     "metadata": {},
     "output_type": "execute_result"
    },
    {
     "data": {
      "text/plain": [
       "Text(0,0.5,'normalized error')"
      ]
     },
     "execution_count": 6,
     "metadata": {},
     "output_type": "execute_result"
    },
    {
     "data": {
      "text/plain": [
       "[<matplotlib.lines.Line2D at 0x7f2ff21c11d0>]"
      ]
     },
     "execution_count": 6,
     "metadata": {},
     "output_type": "execute_result"
    },
    {
     "data": {
      "text/plain": [
       "[<matplotlib.lines.Line2D at 0x7f2ff21c1358>]"
      ]
     },
     "execution_count": 6,
     "metadata": {},
     "output_type": "execute_result"
    },
    {
     "name": "stdout",
     "output_type": "stream",
     "text": [
      "batch size:  25; final testing error: 0.840686; final training error: 0.510528  \n"
     ]
    },
    {
     "data": {
      "text/plain": [
       "<matplotlib.legend.Legend at 0x7f2ff21c19b0>"
      ]
     },
     "execution_count": 6,
     "metadata": {},
     "output_type": "execute_result"
    },
    {
     "data": {
      "image/png": "[encoded data removed]",
      "text/plain": [
       "<matplotlib.figure.Figure at 0x7f2ff220eb38>"
      ]
     },
     "metadata": {},
     "output_type": "display_data"
    },
    {
     "name": "stdout",
     "output_type": "stream",
     "text": [
      "average running time = 5.388902349999995 s\n"
     ]
    }
   ],
   "source": [
    "train_iter = 10000\n",
    "trial_times = 10\n",
    "batch_size_list = [10, 25]\n",
    "plt.figure(figsize=(3*(len(batch_size_list)+3.5),(2*len(batch_size_list)+3.5)))\n",
    "total_running_time = 0\n",
    "for i in range(len(batch_size_list)):\n",
    "    #for 10 times\n",
    "    running_time = 0\n",
    "    total_training_errors = np.zeros(train_iter+1)\n",
    "    total_test_errors = np.zeros(train_iter//100+1)\n",
    "    \n",
    "    for _ in range(trial_times):\n",
    "        running_start = time.clock()\n",
    "        training_errors, test_errors = SGDTrain(X_train, y_train, 0.0005, train_iter,\\\n",
    "                                                 NormMSELoss, batch_size=batch_size_list[i], evaluate = True, lambda_value = 0.005)\n",
    "        running_time += time.clock() - running_start\n",
    "        total_training_errors += training_errors\n",
    "        total_test_errors += test_errors\n",
    "    \n",
    "    total_running_time += running_time / trial_times\n",
    "\n",
    "    x_index1 = list(range(0,train_iter+1,1))\n",
    "    x_index2 = list(range(0,train_iter+1,100))\n",
    "    \n",
    "    plt.subplot(2, 3,i+1)\n",
    "    plt.title('batch size = ' + str(batch_size_list[i]))\n",
    "    plt.xlabel('iteraion')\n",
    "    plt.ylabel('normalized error')\n",
    "    plt.plot(x_index1, total_training_errors/trial_times)\n",
    "    plt.plot(x_index2, total_test_errors/trial_times)\n",
    "    print(\"batch size: %3d; final testing error: %lf; final training error: %lf  \" % (batch_size_list[i], total_test_errors[-1]/trial_times, total_training_errors[-1]/trial_times))\n",
    "    plt.legend(['training error', 'test error'],\\\n",
    "              bbox_to_anchor = (0,-0.2), loc = 3, ncol = 2)\n",
    "\n",
    "plt.show()\n",
    "print('average running time =', total_running_time / len(batch_size_list), 's')"
   ]
  },
  {
   "cell_type": "code",
   "execution_count": 7,
   "metadata": {},
   "outputs": [
    {
     "data": {
      "text/plain": [
       "<matplotlib.figure.Figure at 0x7f2ff2258c18>"
      ]
     },
     "execution_count": 7,
     "metadata": {},
     "output_type": "execute_result"
    },
    {
     "data": {
      "text/plain": [
       "<matplotlib.axes._subplots.AxesSubplot at 0x7f2ff21d02b0>"
      ]
     },
     "execution_count": 7,
     "metadata": {},
     "output_type": "execute_result"
    },
    {
     "data": {
      "text/plain": [
       "Text(0.5,1,'batch size = 10')"
      ]
     },
     "execution_count": 7,
     "metadata": {},
     "output_type": "execute_result"
    },
    {
     "data": {
      "text/plain": [
       "Text(0.5,0,'iteraion')"
      ]
     },
     "execution_count": 7,
     "metadata": {},
     "output_type": "execute_result"
    },
    {
     "data": {
      "text/plain": [
       "Text(0,0.5,'normalized error')"
      ]
     },
     "execution_count": 7,
     "metadata": {},
     "output_type": "execute_result"
    },
    {
     "data": {
      "text/plain": [
       "[<matplotlib.lines.Line2D at 0x7f2ff239f278>]"
      ]
     },
     "execution_count": 7,
     "metadata": {},
     "output_type": "execute_result"
    },
    {
     "data": {
      "text/plain": [
       "[<matplotlib.lines.Line2D at 0x7f2ff239f470>]"
      ]
     },
     "execution_count": 7,
     "metadata": {},
     "output_type": "execute_result"
    },
    {
     "name": "stdout",
     "output_type": "stream",
     "text": [
      "batch size:  10; final testing error: 0.837246; final training error: 0.495314  \n"
     ]
    },
    {
     "data": {
      "text/plain": [
       "<matplotlib.legend.Legend at 0x7f2ff239fac8>"
      ]
     },
     "execution_count": 7,
     "metadata": {},
     "output_type": "execute_result"
    },
    {
     "data": {
      "text/plain": [
       "<matplotlib.axes._subplots.AxesSubplot at 0x7f2ff239fef0>"
      ]
     },
     "execution_count": 7,
     "metadata": {},
     "output_type": "execute_result"
    },
    {
     "data": {
      "text/plain": [
       "Text(0.5,1,'batch size = 25')"
      ]
     },
     "execution_count": 7,
     "metadata": {},
     "output_type": "execute_result"
    },
    {
     "data": {
      "text/plain": [
       "Text(0.5,0,'iteraion')"
      ]
     },
     "execution_count": 7,
     "metadata": {},
     "output_type": "execute_result"
    },
    {
     "data": {
      "text/plain": [
       "Text(0,0.5,'normalized error')"
      ]
     },
     "execution_count": 7,
     "metadata": {},
     "output_type": "execute_result"
    },
    {
     "data": {
      "text/plain": [
       "[<matplotlib.lines.Line2D at 0x7f2ff2114cf8>]"
      ]
     },
     "execution_count": 7,
     "metadata": {},
     "output_type": "execute_result"
    },
    {
     "data": {
      "text/plain": [
       "[<matplotlib.lines.Line2D at 0x7f2ff2114e10>]"
      ]
     },
     "execution_count": 7,
     "metadata": {},
     "output_type": "execute_result"
    },
    {
     "name": "stdout",
     "output_type": "stream",
     "text": [
      "batch size:  25; final testing error: 0.837380; final training error: 0.495149  \n"
     ]
    },
    {
     "data": {
      "text/plain": [
       "<matplotlib.legend.Legend at 0x7f2ff21272b0>"
      ]
     },
     "execution_count": 7,
     "metadata": {},
     "output_type": "execute_result"
    },
    {
     "data": {
      "image/png": "[encoded data removed]",
      "text/plain": [
       "<matplotlib.figure.Figure at 0x7f2ff2258c18>"
      ]
     },
     "metadata": {},
     "output_type": "display_data"
    },
    {
     "name": "stdout",
     "output_type": "stream",
     "text": [
      "average running time = 4.3924351499999945 s\n"
     ]
    }
   ],
   "source": [
    "train_iter = 10000\n",
    "trial_times = 10\n",
    "batch_size_list = [10, 25]\n",
    "plt.figure(figsize=(3*(len(batch_size_list)+3.5),(2*len(batch_size_list)+3.5)))\n",
    "total_running_time = 0\n",
    "for i in range(len(batch_size_list)):\n",
    "    #for 10 times\n",
    "    running_time = 0\n",
    "    total_training_errors = np.zeros(train_iter+1)\n",
    "    total_test_errors = np.zeros(train_iter//100+1)\n",
    "    \n",
    "    for _ in range(trial_times):\n",
    "        running_start = time.clock()\n",
    "        training_errors, test_errors = SGDTrain(X_train, y_train, 0.00005, train_iter,\\\n",
    "                                                 NormMSELoss, batch_size=batch_size_list[i], evaluate = True, lambda_value = 0.005)\n",
    "        running_time += time.clock() - running_start\n",
    "        total_training_errors += training_errors\n",
    "        total_test_errors += test_errors\n",
    "    \n",
    "    total_running_time += running_time / trial_times\n",
    "\n",
    "    x_index1 = list(range(0,train_iter+1,1))\n",
    "    x_index2 = list(range(0,train_iter+1,100))\n",
    "    \n",
    "    plt.subplot(2, 3,i+1)\n",
    "    plt.title('batch size = ' + str(batch_size_list[i]))\n",
    "    plt.xlabel('iteraion')\n",
    "    plt.ylabel('normalized error')\n",
    "    plt.plot(x_index1, total_training_errors/trial_times)\n",
    "    plt.plot(x_index2, total_test_errors/trial_times)\n",
    "    print(\"batch size: %3d; final testing error: %lf; final training error: %lf  \" % (batch_size_list[i], total_test_errors[-1]/trial_times, total_training_errors[-1]/trial_times))\n",
    "    plt.legend(['training error', 'test error'],\\\n",
    "              bbox_to_anchor = (0,-0.2), loc = 3, ncol = 2)\n",
    "\n",
    "plt.show()\n",
    "print('average running time =', total_running_time / len(batch_size_list), 's')"
   ]
  },
  {
   "cell_type": "code",
   "execution_count": null,
   "metadata": {},
   "outputs": [],
   "source": []
  }
 ],
 "metadata": {
  "kernelspec": {
   "display_name": "Python 3",
   "language": "python",
   "name": "python3"
  },
  "language_info": {
   "codemirror_mode": {
    "name": "ipython",
    "version": 3
   },
   "file_extension": ".py",
   "mimetype": "text/x-python",
   "name": "python",
   "nbconvert_exporter": "python",
   "pygments_lexer": "ipython3",
   "version": "3.6.6"
  }
 },
 "nbformat": 4,
 "nbformat_minor": 2
}
