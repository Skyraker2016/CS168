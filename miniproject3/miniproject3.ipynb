{
 "cells": [
  {
   "cell_type": "markdown",
   "metadata": {},
   "source": [
    "# Part 1: Regression, Three Ways"
   ]
  },
  {
   "cell_type": "markdown",
   "metadata": {},
   "source": [
    "### We will consider the problem of fitting a linear model. Given d-dimensional input data $x^{(1)}, ... , x^{(n)} \\in R^d$ with real-valued labels $y^{(1)}, ... , y^{(n)} \\in R$, the goal is to find the coefficient vector $a$ that minimizes the sum of the squared errors. The total squared error of $a$ can be written as $f(a) = \\sum_{i=1}^{n}f_i(a)$, where $f_i(a) = (a^Tx^{(i)}-y^{(i)})^2$ denotes the squared error of the ith data point.\n",
    "\n",
    "### The data in this problem will be drawn from the following linear model. For the training data, we select $n$ data points $x^{(1)}, ... , x^{(n)}$ , each drawn independently from a d-dimensional Gaussian distribution. We then pick the “true” coefficient vector $a^*$ (again from a d-dimensional Gaussian), and give each training point $x^{(i)}$ a label equal to $(a^*)^Tx^{(i)}$ plus some noise (which is drawn from a 1-dimensional Gaussian distribution).\n"
   ]
  },
  {
   "cell_type": "code",
   "execution_count": 1,
   "metadata": {},
   "outputs": [],
   "source": [
    "import numpy as np\n",
    "import matplotlib.pyplot as plt\n",
    "import time\n",
    "import warnings\n",
    "warnings.filterwarnings(\"ignore\")\n",
    "test_mode = True"
   ]
  },
  {
   "cell_type": "markdown",
   "metadata": {},
   "source": [
    "The following Python code will generate the data used in this problem."
   ]
  },
  {
   "cell_type": "code",
   "execution_count": 2,
   "metadata": {},
   "outputs": [],
   "source": [
    "#generate the data\n",
    "d = 100\n",
    "n = 1000\n",
    "X = np.random.normal(0,1, size = (n,d))\n",
    "a_true = np.random.normal(0,1,size=(d,1))\n",
    "y = X @ a_true + np.random.normal(0, 0.5, size = (n,1))"
   ]
  },
  {
   "cell_type": "markdown",
   "metadata": {},
   "source": [
    "### (a) (4 points) Least-squares regression has the closed form solution $a = (X^TX)^{−1}X^Ty$, which minimizes the squared error on the data. (Here $X$ is the $n * d$ data matrix as in the code above, with one row per data point, and $y$ is the n-vector of their labels.) Solve for $a$ and report the value of the objective function using this value $a$. For comparison, what is the total squared error if you just set a to be the all 0’s vector?\n"
   ]
  },
  {
   "cell_type": "code",
   "execution_count": 3,
   "metadata": {},
   "outputs": [
    {
     "name": "stdout",
     "output_type": "stream",
     "text": [
      "closed form solution a:\n",
      " [[ 0.94403764  0.29189259  0.13159323 -0.14282461 -0.04439557  1.16400549\n",
      "  -1.22804917 -0.09711066 -2.08055576  0.128661   -0.94453441  0.25322111\n",
      "  -0.5374208  -0.43162097  0.70911468 -0.17090126 -1.83282811  1.68073208\n",
      "  -1.79557242 -0.70452726 -0.34425699  0.0065212  -1.59244102  0.83521132\n",
      "  -0.2503153  -0.63387118  1.31251712 -0.22741327 -1.38896685  0.21178076\n",
      "   1.16894283  0.3496383   0.20368646  1.70204465 -0.39489328 -1.65951203\n",
      "   0.15174701  0.65932832 -1.53331147 -1.28359328  0.6840893  -1.01830176\n",
      "   1.76194759  0.12435753 -0.54244567 -1.58709579 -0.32384801 -0.3778035\n",
      "   1.2301409  -0.16929231  0.682973    0.77885513 -1.46557283 -0.76240925\n",
      "   0.23013213 -0.26630645 -0.2188158  -1.5327078   0.87573792  0.7539567\n",
      "  -0.02455374 -0.03151853  0.97872139 -1.06347997 -1.31523218  1.27598116\n",
      "   0.24881404  0.24022967 -0.24395981  0.26705365  1.26032832 -0.2508265\n",
      "  -0.85957423  1.31004598 -2.6054323  -0.52552629 -0.44876012  2.8500228\n",
      "   0.34929888 -0.65094737 -1.06334712  0.91099134 -0.34233839 -0.81366383\n",
      "  -0.32743093  0.43681369 -2.11464517  1.09187448 -0.27597994 -0.35255657\n",
      "   0.08867177  0.73647521 -1.48456231 -0.87623532  0.65811849  1.38213813\n",
      "  -2.02981867  1.14087353 -0.52895023 -0.86963205]]\n"
     ]
    }
   ],
   "source": [
    "a_base = np.linalg.inv(X.T @ X) @ X.T @ y\n",
    "print('closed form solution a:\\n', a_base.T)"
   ]
  },
  {
   "cell_type": "code",
   "execution_count": 4,
   "metadata": {},
   "outputs": [],
   "source": [
    "def MSELoss(y1, y2):\n",
    "    return np.sum((y1-y2)**2)"
   ]
  },
  {
   "cell_type": "code",
   "execution_count": 5,
   "metadata": {},
   "outputs": [
    {
     "name": "stdout",
     "output_type": "stream",
     "text": [
      "value of the objective function using value a =  207.50954965429707\n",
      "value of the objective function seting a to zero =  96187.41434977195\n"
     ]
    }
   ],
   "source": [
    "y1 = X @ a_base\n",
    "print('value of the objective function using value a = ', MSELoss(y1, y))\n",
    "print('value of the objective function seting a to zero = ', MSELoss(y,0))"
   ]
  },
  {
   "cell_type": "markdown",
   "metadata": {},
   "source": [
    "<font color=blue> The squared error of the solving $a$ is far more less than all 0's vector. It means that the $a_{base}$ we get is correct. </font>"
   ]
  },
  {
   "cell_type": "markdown",
   "metadata": {},
   "source": [
    "### (b) (6 points) In this part, you will solve the same problem via gradient descent on the squared-error objective function $f(a) = \\sum_{i=1}^{n}{f_i(a)}$. Recall that the gradient of a sum of functions is the sum of their gradients. Given a point $a_t$, what is the gradient of f at $a_t$? "
   ]
  },
  {
   "cell_type": "markdown",
   "metadata": {},
   "source": [
    "b)"
   ]
  },
  {
   "cell_type": "markdown",
   "metadata": {},
   "source": [
    "$$\\because Xa = \\left[\\begin{matrix}\n",
    "   \\sum_\\limits{i = 1}^dx_{1i}a_i \\\\\n",
    "   \\sum_\\limits{i = 1}^dx_{2i}a_i \\\\\n",
    "   \\vdots \\\\\n",
    "   \\sum_\\limits{i = 1}^dx_{ni}a_i \\\\\n",
    "\\end{matrix}\\right]$$\n",
    "\n",
    "$$\\therefore \\frac{\\partial Xa}{\\partial a_t} = \\left[\\begin{matrix}\n",
    "    x_{1t} \\\\\n",
    "    x_{2t} \\\\\n",
    "    \\vdots \\\\\n",
    "    x_{nt} \\\\\n",
    "\\end{matrix}\\right]$$\n",
    "\n",
    "$$\\therefore \\frac{\\partial f(a)}{\\partial a_t} \n",
    "= \\frac{\\partial (Xa - y)^T(Xa - y)}{\\partial a_t}\n",
    "=  2(Xa - y)^T\\left[\\begin{matrix}\n",
    "    x_{1t} \\\\\n",
    "    x_{2t} \\\\\n",
    "    \\vdots \\\\\n",
    "    x_{nt} \\\\\n",
    "\\end{matrix}\\right]$$"
   ]
  },
  {
   "cell_type": "markdown",
   "metadata": {},
   "source": [
    "### Now use gradient descent to find a coefficient vector $a$ that approximately minimizes the least squares objective function over the data. Run gradient descent three times, once with each of the step sizes $0.00005$, $0.0005$, and $0.0007$. You should initialize $a$ to be the all-zero vector for all three runs. Plot the objective function value for 20 iterations for all 3 step sizes on the same graph. Comment in 3-4 sentences on how the step size can affect the convergence of gradient descent (feel free to experiment with other step sizes). Also report the step size that had the best final objective function value and the corresponding objective function value."
   ]
  },
  {
   "cell_type": "code",
   "execution_count": 6,
   "metadata": {},
   "outputs": [],
   "source": [
    "#index from 0 to n-1\n",
    "#gradient without l2\n",
    "def getGradient(X, y, a, index, lambda_value = 0):\n",
    "    #gradient below is for index -> a_t\n",
    "    #gradient = 2 * (X@a  - y).T @ (X[:,index])\n",
    "    #now change into index -> x_i\n",
    "    gradient = (2 * (X[index]@a-y[index]) * X[index]).reshape(-1,1) + (2 * lambda_value * a).reshape(-1,1)\n",
    "    return gradient.reshape((-1,1))\n",
    "\n",
    "def GDTrain(X, y, step_size, train_step, metric = MSELoss, lambda_value = 0):\n",
    "    # extra dimension = 1 of a is necessary!!!\n",
    "    # nasty broadcase algirhtm\n",
    "    a = np.zeros((len(X[0]),1))\n",
    "    obj_value = np.zeros(train_step+1)\n",
    "    test_error = np.zeros(train_step//100 + 1)\n",
    "    obj_value[0] = metric(X @ a, y)\n",
    "    global X_test, y_test\n",
    "    test_error[0] = metric(X_test @ a, y_test)\n",
    "    for iters in range(train_step):\n",
    "        gds = np.zeros((len(X[0]),1))\n",
    "        for index in range(len(X)):\n",
    "            gds += getGradient(X, y, a, index, lambda_value)\n",
    "        #update a with gradient\n",
    "        a = a - step_size * gds\n",
    "        obj_value[iters+1] = metric(X @ a, y)\n",
    "        if (iters+1) % 100 == 0:\n",
    "            test_error[(iters+1)//100] = metric(X_test @ a, y_test)\n",
    "    return obj_value, test_error"
   ]
  },
  {
   "cell_type": "code",
   "execution_count": 7,
   "metadata": {},
   "outputs": [
    {
     "data": {
      "text/plain": [
       "<Figure size 1296x432 with 0 Axes>"
      ]
     },
     "execution_count": 7,
     "metadata": {},
     "output_type": "execute_result"
    },
    {
     "ename": "NameError",
     "evalue": "name 'X_test' is not defined",
     "output_type": "error",
     "traceback": [
      "\u001b[1;31m---------------------------------------------------------------------------\u001b[0m",
      "\u001b[1;31mNameError\u001b[0m                                 Traceback (most recent call last)",
      "\u001b[1;32m<ipython-input-7-292e2eb0cd13>\u001b[0m in \u001b[0;36m<module>\u001b[1;34m()\u001b[0m\n\u001b[0;32m      7\u001b[0m \u001b[1;32mfor\u001b[0m \u001b[0mi\u001b[0m \u001b[1;32min\u001b[0m \u001b[0mrange\u001b[0m\u001b[1;33m(\u001b[0m\u001b[0mlen\u001b[0m\u001b[1;33m(\u001b[0m\u001b[0mstep_size_list\u001b[0m\u001b[1;33m)\u001b[0m\u001b[1;33m)\u001b[0m\u001b[1;33m:\u001b[0m\u001b[1;33m\u001b[0m\u001b[0m\n\u001b[0;32m      8\u001b[0m     \u001b[0mrunning_start\u001b[0m \u001b[1;33m=\u001b[0m \u001b[0mtime\u001b[0m\u001b[1;33m.\u001b[0m\u001b[0mclock\u001b[0m\u001b[1;33m(\u001b[0m\u001b[1;33m)\u001b[0m\u001b[1;33m\u001b[0m\u001b[0m\n\u001b[1;32m----> 9\u001b[1;33m     \u001b[0mobj_value\u001b[0m \u001b[1;33m=\u001b[0m \u001b[0mGDTrain\u001b[0m\u001b[1;33m(\u001b[0m\u001b[0mX\u001b[0m\u001b[1;33m,\u001b[0m \u001b[0my\u001b[0m\u001b[1;33m,\u001b[0m \u001b[0mstep_size_list\u001b[0m\u001b[1;33m[\u001b[0m\u001b[0mi\u001b[0m\u001b[1;33m]\u001b[0m\u001b[1;33m,\u001b[0m \u001b[0mtrain_step\u001b[0m\u001b[1;33m)\u001b[0m\u001b[1;33m\u001b[0m\u001b[0m\n\u001b[0m\u001b[0;32m     10\u001b[0m     \u001b[0mrunning_time\u001b[0m \u001b[1;33m+=\u001b[0m \u001b[0mtime\u001b[0m\u001b[1;33m.\u001b[0m\u001b[0mclock\u001b[0m\u001b[1;33m(\u001b[0m\u001b[1;33m)\u001b[0m \u001b[1;33m-\u001b[0m \u001b[0mrunning_start\u001b[0m\u001b[1;33m\u001b[0m\u001b[0m\n\u001b[0;32m     11\u001b[0m     \u001b[0mx_index\u001b[0m \u001b[1;33m=\u001b[0m \u001b[0mlist\u001b[0m\u001b[1;33m(\u001b[0m\u001b[0mrange\u001b[0m\u001b[1;33m(\u001b[0m\u001b[1;36m0\u001b[0m\u001b[1;33m,\u001b[0m\u001b[0mtrain_step\u001b[0m\u001b[1;33m+\u001b[0m\u001b[1;36m1\u001b[0m\u001b[1;33m,\u001b[0m\u001b[1;36m1\u001b[0m\u001b[1;33m)\u001b[0m\u001b[1;33m)\u001b[0m\u001b[1;33m\u001b[0m\u001b[0m\n",
      "\u001b[1;32m<ipython-input-6-30ac2f460589>\u001b[0m in \u001b[0;36mGDTrain\u001b[1;34m(X, y, step_size, train_step, metric, lambda_value)\u001b[0m\n\u001b[0;32m     16\u001b[0m     \u001b[0mobj_value\u001b[0m\u001b[1;33m[\u001b[0m\u001b[1;36m0\u001b[0m\u001b[1;33m]\u001b[0m \u001b[1;33m=\u001b[0m \u001b[0mmetric\u001b[0m\u001b[1;33m(\u001b[0m\u001b[0mX\u001b[0m \u001b[1;33m@\u001b[0m \u001b[0ma\u001b[0m\u001b[1;33m,\u001b[0m \u001b[0my\u001b[0m\u001b[1;33m)\u001b[0m\u001b[1;33m\u001b[0m\u001b[0m\n\u001b[0;32m     17\u001b[0m     \u001b[1;32mglobal\u001b[0m \u001b[0mX_test\u001b[0m\u001b[1;33m,\u001b[0m \u001b[0my_test\u001b[0m\u001b[1;33m\u001b[0m\u001b[0m\n\u001b[1;32m---> 18\u001b[1;33m     \u001b[0mtest_error\u001b[0m\u001b[1;33m[\u001b[0m\u001b[1;36m0\u001b[0m\u001b[1;33m]\u001b[0m \u001b[1;33m=\u001b[0m \u001b[0mmetric\u001b[0m\u001b[1;33m(\u001b[0m\u001b[0mX_test\u001b[0m \u001b[1;33m@\u001b[0m \u001b[0ma\u001b[0m\u001b[1;33m,\u001b[0m \u001b[0my_test\u001b[0m\u001b[1;33m)\u001b[0m\u001b[1;33m\u001b[0m\u001b[0m\n\u001b[0m\u001b[0;32m     19\u001b[0m     \u001b[1;32mfor\u001b[0m \u001b[0miters\u001b[0m \u001b[1;32min\u001b[0m \u001b[0mrange\u001b[0m\u001b[1;33m(\u001b[0m\u001b[0mtrain_step\u001b[0m\u001b[1;33m)\u001b[0m\u001b[1;33m:\u001b[0m\u001b[1;33m\u001b[0m\u001b[0m\n\u001b[0;32m     20\u001b[0m         \u001b[0mgds\u001b[0m \u001b[1;33m=\u001b[0m \u001b[0mnp\u001b[0m\u001b[1;33m.\u001b[0m\u001b[0mzeros\u001b[0m\u001b[1;33m(\u001b[0m\u001b[1;33m(\u001b[0m\u001b[0mlen\u001b[0m\u001b[1;33m(\u001b[0m\u001b[0mX\u001b[0m\u001b[1;33m[\u001b[0m\u001b[1;36m0\u001b[0m\u001b[1;33m]\u001b[0m\u001b[1;33m)\u001b[0m\u001b[1;33m,\u001b[0m\u001b[1;36m1\u001b[0m\u001b[1;33m)\u001b[0m\u001b[1;33m)\u001b[0m\u001b[1;33m\u001b[0m\u001b[0m\n",
      "\u001b[1;31mNameError\u001b[0m: name 'X_test' is not defined"
     ]
    },
    {
     "data": {
      "text/plain": [
       "<Figure size 1296x432 with 0 Axes>"
      ]
     },
     "metadata": {},
     "output_type": "display_data"
    }
   ],
   "source": [
    "train_step = 20\n",
    "step_size_list =  [0.00005,0.0005,0.0007]\n",
    "plt.figure(figsize=(3*(len(step_size_list)+3),(len(step_size_list)+3)))\n",
    "\n",
    "running_time = 0\n",
    "\n",
    "for i in range(len(step_size_list)):\n",
    "    running_start = time.clock()\n",
    "    obj_value = GDTrain(X, y, step_size_list[i], train_step)\n",
    "    running_time += time.clock() - running_start\n",
    "    x_index = list(range(0,train_step+1,1))\n",
    "    plt.subplot(1,len(step_size_list),i+1)\n",
    "    plt.title('step size = ' + str(step_size_list[i]))\n",
    "    plt.xlabel('iteraion')\n",
    "    plt.ylabel('objctive function value')\n",
    "    plt.plot(x_index, obj_value)\n",
    "    print('final objective values of step size = %lf is: %lf' % (step_size_list[i], obj_value[-1]))\n",
    "\n",
    "plt.show()\n",
    "print('average running time =', running_time / len(step_size_list), 's')"
   ]
  },
  {
   "cell_type": "markdown",
   "metadata": {},
   "source": [
    "<font color=blue>With the increase of step size, the convergence speed becomes faster, but when the step size is too large, the objective function will oscillate around the local optimum, or even diverge. The step size of 0.0005 is the best one and the final objective values is similar to the closed solution's.</front>"
   ]
  },
  {
   "cell_type": "markdown",
   "metadata": {},
   "source": [
    "### (c) (6 points) In this part you will run stochastic gradient descent to solve the same problem. Recall that in stochastic gradient descent, you pick one datapoint at a time, say $(x^{(i)}, y^{(i)})$, and update your current value of $a$ according to the gradient of $f_i(a) = (a^Tx^{(i)}-y^{(i)})^2$."
   ]
  },
  {
   "cell_type": "code",
   "execution_count": 8,
   "metadata": {},
   "outputs": [],
   "source": [
    "def SGDTrain(X, y, step_size, iters, metric = MSELoss,batch_size=1, evaluate = False, lambda_value = 0, random_radius = 0):\n",
    "    a = np.random.uniform(0,random_radius, size = (len(X[0]),1))\n",
    "    obj_value = np.zeros(iters+1)\n",
    "    test_error = np.zeros(iters//100 + 1)\n",
    "    obj_value[0] = metric(X @ a, y)\n",
    "    if evaluate:\n",
    "        global X_test, y_test\n",
    "        test_error[0] = metric(X_test @ a, y_test)\n",
    "    for i in range(iters):\n",
    "        gd = np.zeros((len(X[0]),1))\n",
    "        indexs = np.array(range(len(X)))\n",
    "        np.random.shuffle(indexs)\n",
    "        for index_i in range(batch_size):\n",
    "            index = indexs[index_i]\n",
    "            gd += getGradient(X, y, a, index, lambda_value)\n",
    "        #update a with gradient\n",
    "        a = a - step_size * gd\n",
    "        obj_value[i+1] = metric(X @ a, y)\n",
    "        if evaluate and (i+1) % 100 == 0:\n",
    "            test_error[(i+1)//100] = metric(X_test @ a, y_test)\n",
    "    if evaluate:\n",
    "        return obj_value, test_error\n",
    "    else:\n",
    "        return obj_value"
   ]
  },
  {
   "cell_type": "markdown",
   "metadata": {},
   "source": [
    "### Run stochastic gradient descent using step sizes ${0.0005, 0.005, 0.01}$ and 1000 iterations. Plot the objective function value vs. the iteration number for all 3 step sizes on the same graph. Comment 3-4 sentences on how the step size can affect the convergence of stochastic gradient descent and how it compares to gradient descent. Compare the performance of the two methods. How do the best final objective function values compare? How many times does each algorithm use each data point? Also report the step size that had the best final objective function value and the corresponding objective function value."
   ]
  },
  {
   "cell_type": "code",
   "execution_count": 9,
   "metadata": {},
   "outputs": [
    {
     "data": {
      "text/plain": [
       "<Figure size 1404x468 with 0 Axes>"
      ]
     },
     "execution_count": 9,
     "metadata": {},
     "output_type": "execute_result"
    },
    {
     "data": {
      "text/plain": [
       "<matplotlib.axes._subplots.AxesSubplot at 0x258d4e21908>"
      ]
     },
     "execution_count": 9,
     "metadata": {},
     "output_type": "execute_result"
    },
    {
     "data": {
      "text/plain": [
       "Text(0.5,1,'step size = 0.0005')"
      ]
     },
     "execution_count": 9,
     "metadata": {},
     "output_type": "execute_result"
    },
    {
     "data": {
      "text/plain": [
       "Text(0.5,0,'iteraion')"
      ]
     },
     "execution_count": 9,
     "metadata": {},
     "output_type": "execute_result"
    },
    {
     "data": {
      "text/plain": [
       "Text(0,0.5,'objctive function value')"
      ]
     },
     "execution_count": 9,
     "metadata": {},
     "output_type": "execute_result"
    },
    {
     "data": {
      "text/plain": [
       "[<matplotlib.lines.Line2D at 0x258d4e53710>]"
      ]
     },
     "execution_count": 9,
     "metadata": {},
     "output_type": "execute_result"
    },
    {
     "name": "stdout",
     "output_type": "stream",
     "text": [
      "final objective values of step size = 0.000500 is: 14295.000350\n"
     ]
    },
    {
     "data": {
      "text/plain": [
       "<matplotlib.axes._subplots.AxesSubplot at 0x258d4e62d68>"
      ]
     },
     "execution_count": 9,
     "metadata": {},
     "output_type": "execute_result"
    },
    {
     "data": {
      "text/plain": [
       "Text(0.5,1,'step size = 0.005')"
      ]
     },
     "execution_count": 9,
     "metadata": {},
     "output_type": "execute_result"
    },
    {
     "data": {
      "text/plain": [
       "Text(0.5,0,'iteraion')"
      ]
     },
     "execution_count": 9,
     "metadata": {},
     "output_type": "execute_result"
    },
    {
     "data": {
      "text/plain": [
       "Text(0,0.5,'objctive function value')"
      ]
     },
     "execution_count": 9,
     "metadata": {},
     "output_type": "execute_result"
    },
    {
     "data": {
      "text/plain": [
       "[<matplotlib.lines.Line2D at 0x258d4e8bef0>]"
      ]
     },
     "execution_count": 9,
     "metadata": {},
     "output_type": "execute_result"
    },
    {
     "name": "stdout",
     "output_type": "stream",
     "text": [
      "final objective values of step size = 0.005000 is: 456.599574\n"
     ]
    },
    {
     "data": {
      "text/plain": [
       "<matplotlib.axes._subplots.AxesSubplot at 0x258d4ea1588>"
      ]
     },
     "execution_count": 9,
     "metadata": {},
     "output_type": "execute_result"
    },
    {
     "data": {
      "text/plain": [
       "Text(0.5,1,'step size = 0.01')"
      ]
     },
     "execution_count": 9,
     "metadata": {},
     "output_type": "execute_result"
    },
    {
     "data": {
      "text/plain": [
       "Text(0.5,0,'iteraion')"
      ]
     },
     "execution_count": 9,
     "metadata": {},
     "output_type": "execute_result"
    },
    {
     "data": {
      "text/plain": [
       "Text(0,0.5,'objctive function value')"
      ]
     },
     "execution_count": 9,
     "metadata": {},
     "output_type": "execute_result"
    },
    {
     "data": {
      "text/plain": [
       "[<matplotlib.lines.Line2D at 0x258d4ec9ef0>]"
      ]
     },
     "execution_count": 9,
     "metadata": {},
     "output_type": "execute_result"
    },
    {
     "name": "stdout",
     "output_type": "stream",
     "text": [
      "final objective values of step size = 0.010000 is: 326978.365069\n"
     ]
    },
    {
     "data": {
      "image/png": "[encoded data removed]",
      "text/plain": [
       "<Figure size 1404x468 with 3 Axes>"
      ]
     },
     "metadata": {
      "image/png": {
       "height": 413,
       "width": 1163
      },
      "needs_background": "light"
     },
     "output_type": "display_data"
    },
    {
     "name": "stdout",
     "output_type": "stream",
     "text": [
      "average running time = 0.1923890080959628 s\n"
     ]
    }
   ],
   "source": [
    "train_iter = 1000\n",
    "step_size_list =  [0.0005,0.005,0.01]\n",
    "plt.figure(figsize=(3*(len(step_size_list)+3.5),(len(step_size_list)+3.5)))\n",
    "\n",
    "running_time = 0\n",
    "\n",
    "for i in range(len(step_size_list)):\n",
    "    running_start = time.clock()\n",
    "    obj_value = SGDTrain(X, y, step_size_list[i], train_iter)\n",
    "    running_time += time.clock() - running_start\n",
    "    x_index = list(range(0,train_iter+1,1))\n",
    "    plt.subplot(1,len(step_size_list),i+1)\n",
    "    plt.title('step size = ' + str(step_size_list[i]))\n",
    "    plt.xlabel('iteraion')\n",
    "    plt.ylabel('objctive function value')\n",
    "    plt.plot(x_index, obj_value)\n",
    "    print('final objective values of step size = %lf is: %lf' % (step_size_list[i], obj_value[-1]))\n",
    "\n",
    "plt.show()\n",
    "print('average running time =', running_time / len(step_size_list), 's')"
   ]
  },
  {
   "cell_type": "markdown",
   "metadata": {},
   "source": [
    "<font color=blue>Similar to the (b), the larger step size, the faster convergence speed. Nevertheless,  when the step size becomes too large, the objective function will oscillate around the local optimum, or even diverge. \n",
    "The objective function values change roughly by using SGD. The overall tendency is similar to the GD one that uses a large step size.\n",
    "The efficiency of SGD is much higher than GD. We can see that SGD converges time is only 1/5 times of GD's.\n",
    "On the other hand, the best final objective function values of SGD is larger than that in GD i.e. 458.2807 vs 217.0854.\n",
    "\n",
    "$$T_{GD}  = \\frac{average time}{20 (iterations) * 1000 (data point/iteration)}  = 7.311e-06 s$$\n",
    "\n",
    "$$T_{SGD} = \\frac{average time}{1000 (iterations) * 1 (data point/iteration)}   = 0.3089e-06 s$$\n",
    "\n",
    "Usng step size 0.005 in SGD we can get the optimal final objective function values."
   ]
  },
  {
   "cell_type": "code",
   "execution_count": 10,
   "metadata": {},
   "outputs": [],
   "source": [
    "#using another metric, y2 is the real ture output\n",
    "def NormMSELoss(y1, y2):\n",
    "    return np.sqrt(np.sum((y1 - y2)**2))/np.sqrt(np.sum(y2**2))"
   ]
  },
  {
   "cell_type": "code",
   "execution_count": 11,
   "metadata": {},
   "outputs": [
    {
     "data": {
      "text/plain": [
       "<Figure size 1080x360 with 0 Axes>"
      ]
     },
     "execution_count": 11,
     "metadata": {},
     "output_type": "execute_result"
    },
    {
     "data": {
      "text/plain": [
       "<matplotlib.axes._subplots.AxesSubplot at 0x258d4b81cf8>"
      ]
     },
     "execution_count": 11,
     "metadata": {},
     "output_type": "execute_result"
    },
    {
     "data": {
      "text/plain": [
       "Text(0.5,1,'step size = 0.0005')"
      ]
     },
     "execution_count": 11,
     "metadata": {},
     "output_type": "execute_result"
    },
    {
     "data": {
      "text/plain": [
       "Text(0.5,0,'iteraion')"
      ]
     },
     "execution_count": 11,
     "metadata": {},
     "output_type": "execute_result"
    },
    {
     "data": {
      "text/plain": [
       "Text(0,0.5,'objctive function value')"
      ]
     },
     "execution_count": 11,
     "metadata": {},
     "output_type": "execute_result"
    },
    {
     "data": {
      "text/plain": [
       "(0, 2)"
      ]
     },
     "execution_count": 11,
     "metadata": {},
     "output_type": "execute_result"
    },
    {
     "data": {
      "text/plain": [
       "[<matplotlib.lines.Line2D at 0x258d695d208>]"
      ]
     },
     "execution_count": 11,
     "metadata": {},
     "output_type": "execute_result"
    },
    {
     "name": "stdout",
     "output_type": "stream",
     "text": [
      "final objective values of step size = 0.000500 is: 0.428501\n"
     ]
    },
    {
     "data": {
      "text/plain": [
       "<matplotlib.axes._subplots.AxesSubplot at 0x258d696cd30>"
      ]
     },
     "execution_count": 11,
     "metadata": {},
     "output_type": "execute_result"
    },
    {
     "data": {
      "text/plain": [
       "Text(0.5,1,'step size = 0.005')"
      ]
     },
     "execution_count": 11,
     "metadata": {},
     "output_type": "execute_result"
    },
    {
     "data": {
      "text/plain": [
       "Text(0.5,0,'iteraion')"
      ]
     },
     "execution_count": 11,
     "metadata": {},
     "output_type": "execute_result"
    },
    {
     "data": {
      "text/plain": [
       "Text(0,0.5,'objctive function value')"
      ]
     },
     "execution_count": 11,
     "metadata": {},
     "output_type": "execute_result"
    },
    {
     "data": {
      "text/plain": [
       "(0, 2)"
      ]
     },
     "execution_count": 11,
     "metadata": {},
     "output_type": "execute_result"
    },
    {
     "data": {
      "text/plain": [
       "[<matplotlib.lines.Line2D at 0x258d4f68e10>]"
      ]
     },
     "execution_count": 11,
     "metadata": {},
     "output_type": "execute_result"
    },
    {
     "name": "stdout",
     "output_type": "stream",
     "text": [
      "final objective values of step size = 0.005000 is: 0.067083\n"
     ]
    },
    {
     "data": {
      "text/plain": [
       "<matplotlib.axes._subplots.AxesSubplot at 0x258d4f81978>"
      ]
     },
     "execution_count": 11,
     "metadata": {},
     "output_type": "execute_result"
    },
    {
     "data": {
      "text/plain": [
       "Text(0.5,1,'step size = 0.01')"
      ]
     },
     "execution_count": 11,
     "metadata": {},
     "output_type": "execute_result"
    },
    {
     "data": {
      "text/plain": [
       "Text(0.5,0,'iteraion')"
      ]
     },
     "execution_count": 11,
     "metadata": {},
     "output_type": "execute_result"
    },
    {
     "data": {
      "text/plain": [
       "Text(0,0.5,'objctive function value')"
      ]
     },
     "execution_count": 11,
     "metadata": {},
     "output_type": "execute_result"
    },
    {
     "data": {
      "text/plain": [
       "(0, 2)"
      ]
     },
     "execution_count": 11,
     "metadata": {},
     "output_type": "execute_result"
    },
    {
     "data": {
      "text/plain": [
       "[<matplotlib.lines.Line2D at 0x258d4f98a58>]"
      ]
     },
     "execution_count": 11,
     "metadata": {},
     "output_type": "execute_result"
    },
    {
     "name": "stdout",
     "output_type": "stream",
     "text": [
      "final objective values of step size = 0.010000 is: 1.657704\n"
     ]
    },
    {
     "data": {
      "image/png": "[encoded data removed]",
      "text/plain": [
       "<Figure size 1080x360 with 3 Axes>"
      ]
     },
     "metadata": {
      "image/png": {
       "height": 331,
       "width": 896
      },
      "needs_background": "light"
     },
     "output_type": "display_data"
    },
    {
     "name": "stdout",
     "output_type": "stream",
     "text": [
      "average running time = 0.18862473266534607 s\n"
     ]
    }
   ],
   "source": [
    "train_iter = 1000\n",
    "step_size_list =  [0.0005,0.005,0.01]\n",
    "plt.figure(figsize=(3*(len(step_size_list)+2),(len(step_size_list)+2)))\n",
    "\n",
    "running_time = 0\n",
    "\n",
    "for i in range(len(step_size_list)):\n",
    "    running_start = time.clock()\n",
    "    obj_value = SGDTrain(X, y, step_size_list[i], train_iter, NormMSELoss)\n",
    "    running_time += time.clock() - running_start\n",
    "    x_index = list(range(0,train_iter+1,1))\n",
    "    plt.subplot(1,len(step_size_list),i+1)\n",
    "    plt.title('step size = ' + str(step_size_list[i]))\n",
    "    plt.xlabel('iteraion')\n",
    "    plt.ylabel('objctive function value')\n",
    "    plt.ylim(0, 2)\n",
    "    plt.plot(x_index, obj_value)\n",
    "    print('final objective values of step size = %lf is: %lf' % (step_size_list[i], obj_value[-1]))\n",
    "    \n",
    "plt.show()\n",
    "print('average running time =', running_time / len(step_size_list), 's')"
   ]
  },
  {
   "cell_type": "markdown",
   "metadata": {},
   "source": [
    "# Part 2\n",
    "\n",
    "### In the previous problem, the number of data points was much larger than the number of dimensions and hence we did not worry about generalization. (Feel free to check that the coefficient vector $a$ that you computed accurately labels new datapoints drawn from the same distribution.) We will now consider the setting where $d = n$, and examine the test error along with the training error. Use the following Python code for generating the training data and test data.\n"
   ]
  },
  {
   "cell_type": "code",
   "execution_count": 12,
   "metadata": {},
   "outputs": [],
   "source": [
    "#initialize variable to get the avg error\n",
    "train_n = 100\n",
    "test_n = 1000\n",
    "d = 100\n",
    "X_train = np.random.normal(0,1, size=(train_n,d))\n",
    "a_true = np.random.normal(0,1, size=(d,1))\n",
    "y_train = X_train.dot(a_true) + np.random.normal(0,0.5,size=(train_n,1))\n",
    "X_test = np.random.normal(0,1, size=(test_n,d))\n",
    "y_test = X_test.dot(a_true) + np.random.normal(0,0.5,size=(test_n,1))\n",
    "\n",
    "def init():\n",
    "    global X_train, a_true, y_train, X_test, y_test\n",
    "    X_train = np.random.normal(0,1, size=(train_n,d))\n",
    "    a_true = np.random.normal(0,1, size=(d,1))\n",
    "    y_train = X_train.dot(a_true) + np.random.normal(0,0.5,size=(train_n,1))\n",
    "    X_test = np.random.normal(0,1, size=(test_n,d))\n",
    "    y_test = X_test.dot(a_true) + np.random.normal(0,0.5,size=(test_n,1))"
   ]
  },
  {
   "cell_type": "markdown",
   "metadata": {},
   "source": [
    "### (a) (2 points) We will first setup a baseline, by finding the test error of the linear regression solution $a=X^{-1}y$ without any regularization. This is the closed-form solution for the minimizer of the objective function $f(a)$. (Note the formula is simpler than in 1(a) because now $X$ is square.) Report the training error and test error of this approach, averaged over 10 trials. For better interpretability, report the normalized test error $\\hat{f}(a)$ rather than the value of the objective function $f(a)$, where by definition $$ \\hat{f}(a) = \\frac{||Xa-y||_2}{||y||_2}　$$\n"
   ]
  },
  {
   "cell_type": "code",
   "execution_count": 13,
   "metadata": {
    "scrolled": true
   },
   "outputs": [
    {
     "name": "stdout",
     "output_type": "stream",
     "text": [
      "training error =  3.6284325390580655e-14\n",
      "test error =  1.9198569645032604\n"
     ]
    }
   ],
   "source": [
    "trial_times = 100\n",
    "training_error_base1 = 0\n",
    "test_error_base1 = 0\n",
    "\n",
    "for _ in range(trial_times):\n",
    "    init()\n",
    "    a_base = np.linalg.inv(X_train) @ y_train\n",
    "    training_error_base1 += NormMSELoss(X_train @ a_base, y_train)\n",
    "    test_error_base1 += NormMSELoss(X_test @ a_base, y_test)\n",
    "\n",
    "training_error_base1 /= trial_times\n",
    "test_error_base1 /= trial_times\n",
    "print('training error = ', training_error_base1)\n",
    "print('test error = ', test_error_base1)"
   ]
  },
  {
   "cell_type": "markdown",
   "metadata": {},
   "source": [
    "<font color=blue>We can see that the test error is much larger than training error,  this means we encounter overfitting problem when the train sample size is much more indigent than test sample size.</font>"
   ]
  },
  {
   "cell_type": "markdown",
   "metadata": {},
   "source": [
    "### (b) (5 points) We will now examine $l_2$ regularization as a means to prevent overfitting. The $l_2$ regularized objective function is given by the following expression:\n",
    "$$\\sum_{i=1}^m{(a^Tx^{(i)}-y^{(i)})^2+\\lambda ||a||^2_2}$$\n",
    "\n",
    "### This has a closed-form solution $a=(X^TX+\\lambda I)^{-1}X^Ty$. Using this closed-form solution, present a plot of the normalized training error and normalized test error $\\hat{f}(a)$ for $\\lambda = {0.0005, 0.005, 0.05, 0.5, 5, 50, 500}$. As before, you should average over 10 trials. Discuss the characteristics of your plot, and also compare it to your answer to (a)."
   ]
  },
  {
   "cell_type": "code",
   "execution_count": 15,
   "metadata": {},
   "outputs": [
    {
     "name": "stdout",
     "output_type": "stream",
     "text": [
      "|lambda|training error|test error|\n",
      "|  5e-05|      0.000313|   1.11869|\n",
      "| 0.0005|      0.001016|   0.75628|\n",
      "|  0.005|      0.002826|   0.42986|\n",
      "|   0.05|      0.005792|   0.26380|\n",
      "|    0.5|      0.016031|   0.23498|\n",
      "|      5|      0.071156|   0.34754|\n",
      "|     50|      0.290672|   0.57782|\n",
      "|    500|      0.741756|   0.86198|\n"
     ]
    }
   ],
   "source": [
    "trial_times = 100\n",
    "lambda_list = [0.00005, 0.0005,0.005,0.05,0.5,5,50,500]\n",
    "training_error_base2 = []\n",
    "test_error_base2 = []\n",
    "print('|lambda|training error|test error|')\n",
    "for i in range(len(lambda_list)):\n",
    "    training_error = 0\n",
    "    test_error = 0\n",
    "    a_base = 0\n",
    "    for _ in range(trial_times):\n",
    "        init()\n",
    "        a_base = np.linalg.inv(X_train.T @ X_train + lambda_list[i] * np.eye(len(X_train)))@X_train.T@y_train\n",
    "        training_error += NormMSELoss(X_train @ a_base, y_train)\n",
    "        test_error += NormMSELoss(X_test @ a_base, y_test)\n",
    "    \n",
    "    training_error_base2.append(training_error/trial_times)\n",
    "    test_error_base2.append(test_error/trial_times)\n",
    "    \n",
    "    print('|%6.4g|      %6lf|  %8.5lf|' %(lambda_list[i], training_error_base2[i],test_error_base2[i]))\n",
    "    \n",
    "#construct error dictionary\n",
    "training_error_base_dic = dict(zip(lambda_list,training_error_base2))\n",
    "test_error_base_dic = dict(zip(lambda_list,test_error_base2))"
   ]
  },
  {
   "cell_type": "markdown",
   "metadata": {},
   "source": [
    "<font color=\"blue\"> We can consider the $\\lambda$ of (a) is 0 as a special situation of generalization. The result elucidates that as the $\\lambda$ increasing, training error would  also increasing. The test error would decrease in early period and then increase again. The best $\\lambda$ of minimum test error is 0.5.  </font>"
   ]
  },
  {
   "cell_type": "markdown",
   "metadata": {},
   "source": [
    "### (c) (5 points) Run stochastic gradient descent (SGD) on the original objective function $f(a)$, with the initial guess of $a$ set to be the all 0’s vector. Run SGD for 1,000,000 iterations for each different choice of the step size, ${0.00005, 0.0005, 0.005}$. \n",
    "\n",
    "### Report the normalized training error and the normalized test error for each of these three settings, averaged over 10 repetitions/trials. \n",
    "\n",
    "### How does the SGD solution compare with the solutions obtained using $l_2$ regularization? \n",
    "### Note that SGD is minimizing the original objective function, which does not have any regularization. \n",
    "\n",
    "### In Part (a) of this problem, we found the optimal solution to the original objective function with respect to the training data. How does the training and test error of the SGD solutions compare with those of the solution in (a)? \n",
    "\n",
    "### Can you explain your observations? (It may be helpful to also compute the normalized training and test error corresponding to the true coefficient vector $f(a^∗)$, for comparison.)\n"
   ]
  },
  {
   "cell_type": "code",
   "execution_count": null,
   "metadata": {},
   "outputs": [],
   "source": [
    "train_iter = 1000000\n",
    "trial_times = 10\n",
    "if test_mode == True:\n",
    "    train_iter = 10000\n",
    "step_size_list =  [0.00005,0.0005, 0.005]\n",
    "plt.figure(figsize=(3*(len(step_size_list)+3.5),(len(step_size_list)+3.5)))\n",
    "print('|step size|training error|test error|')\n",
    "\n",
    "total_running_time = 0\n",
    "for i in range(len(step_size_list)):\n",
    "    #for 10 times\n",
    "    running_time = 0\n",
    "    total_training_errors = np.zeros(train_iter+1)\n",
    "    total_test_errors = np.zeros(train_iter//100+1)\n",
    "    \n",
    "    for _ in range(trial_times):\n",
    "        running_start = time.clock()\n",
    "        training_errors, test_errors = SGDTrain(X_train, y_train, step_size_list[i], train_iter,\\\n",
    "                                             NormMSELoss, evaluate = True)\n",
    "        running_time += time.clock() - running_start\n",
    "        total_training_errors += training_errors\n",
    "        total_test_errors += test_errors\n",
    "\n",
    "    total_running_time += running_time / trial_times\n",
    "    \n",
    "    print('|%9.4g|      %6lf|  %6lf|' %(step_size_list[i], \\\n",
    "                                        total_training_errors[-1]/trial_times, \\\n",
    "                                        total_test_errors[-1]/trial_times))\n",
    "    \n",
    "    x_index1 = list(range(0,train_iter+1,1))\n",
    "    x_index2 = list(range(0,train_iter+1,100))\n",
    "    \n",
    "    plt.subplot(1,len(step_size_list),i+1)\n",
    "    plt.title('step size = ' + str(step_size_list[i]))\n",
    "    plt.xlabel('iteraion')\n",
    "    plt.ylabel('normalized error')\n",
    "    plt.plot(x_index1, total_training_errors/trial_times)\n",
    "    plt.plot(x_index2, total_test_errors/trial_times)\n",
    "    \n",
    "    #draw base line\n",
    "    global training_error_base, test_error_base\n",
    "\n",
    "    plt.plot(x_index1, training_error_base1 * np.ones(len(x_index1)))\n",
    "    \n",
    "    plt.legend(['training error', 'test error', 'training error baseline'],\\\n",
    "              bbox_to_anchor = (0,-0.2), loc = 3, ncol = 2)\n",
    "\n",
    "plt.show()\n",
    "print('average running time =', total_running_time / len(step_size_list), 's')"
   ]
  },
  {
   "cell_type": "markdown",
   "metadata": {},
   "source": [
    "<font color=\"blue\"> We test 10 times and find the best test error is aroound 0.2 on average. We need huge amount of iterations to update the parameters of $a$, and rebound around 0.2.\n",
    "\n",
    "Compare with part(a), we get higher but still near to zero train error and much lower test error i.e. 0.2 vs 2.8925. However, there is still a wide gap between training error and test error, meaning that overfitting problem occurs again.\n",
    "\n",
    "Using SGD algorithm, we would not exploit all training data at once, but use them one by one. When the iterations get larger, we training on the identical data without any other constraints which could not alleviate the overfitting problem. "
   ]
  },
  {
   "cell_type": "markdown",
   "metadata": {},
   "source": [
    "### (d) (7 points) We will now examine the behavior of SGD in more detail. For step sizes {0.00005, 0.005} and 1,000,000 iterations of SGD,"
   ]
  },
  {
   "cell_type": "markdown",
   "metadata": {},
   "source": [
    "### (i) Plot the normalized training error vs. the iteration number. On the plot of training error, draw a line parallel to the x-axis indicating the error $\\hat{f}(a^*)$ of the true model $a^*$\n",
    "### (ii) Plot the normalized test error vs. the iteration number. Your code might take a long time to run if you compute the test error after every SGD step—feel free to compute the test error every 100 iterations of SGD to make the plots.\n"
   ]
  },
  {
   "cell_type": "markdown",
   "metadata": {},
   "source": [
    "<font color=\"blue\"> These two plot is in the part(c)"
   ]
  },
  {
   "cell_type": "markdown",
   "metadata": {},
   "source": [
    "### (iii) Plot the $l_2$ norm of the SGD solution vs. the iteration number.\n",
    "\n",
    "### Comment on the plots. What can you say about the generalization ability of SGD with different step sizes? Does the plot correspond to the intuition that a learning algorithm starts to overfit when the training error becomes too small, i.e. smaller than the noise level of the true model? How does the generalization ability of the final solution depend on the $l_2$ norm of the final solution?\n"
   ]
  },
  {
   "cell_type": "code",
   "execution_count": null,
   "metadata": {
    "scrolled": false
   },
   "outputs": [],
   "source": [
    "train_iter = 1000000\n",
    "trial_times = 10\n",
    "if test_mode == True:\n",
    "    train_iter = 10000\n",
    "step_size_list =  [0.00005,0.0005, 0.005]\n",
    "plt.figure(figsize=(3*(len(step_size_list)+3.5),(len(step_size_list)+3.5)))\n",
    "\n",
    "total_running_time = 0\n",
    "\n",
    "for i in range(len(step_size_list)):\n",
    "    #for 10 times\n",
    "    running_time = 0\n",
    "    total_training_errors = np.zeros(train_iter+1)\n",
    "    total_test_errors = np.zeros(train_iter//100+1)\n",
    "    \n",
    "    for _ in range(trial_times):\n",
    "        running_start = time.clock()\n",
    "        training_errors, test_errors = SGDTrain(X_train, y_train, step_size_list[i], train_iter,\\\n",
    "                                             NormMSELoss, evaluate = True, lambda_value = 0.5)\n",
    "        running_time += time.clock() - running_start\n",
    "        total_training_errors += training_errors\n",
    "        total_test_errors += test_errors\n",
    "    \n",
    "    total_running_time += running_time / trial_times\n",
    "\n",
    "    x_index1 = list(range(0,train_iter+1,1))\n",
    "    x_index2 = list(range(0,train_iter+1,100))\n",
    "    \n",
    "    plt.subplot(1,len(step_size_list),i+1)\n",
    "    plt.title('step size = ' + str(step_size_list[i]))\n",
    "    plt.xlabel('iteraion')\n",
    "    plt.ylabel('normalized error')\n",
    "    plt.plot(x_index1, total_training_errors/trial_times)\n",
    "    plt.plot(x_index2, total_test_errors/trial_times)\n",
    "    \n",
    "    #draw base line\n",
    "    global training_error_base, test_error_base\n",
    "    plt.plot(x_index1, training_error_base_dic[0.5] * np.ones(len(x_index1)))\n",
    "    plt.plot(x_index2, test_error_base_dic[0.5] * np.ones(len(x_index2)))\n",
    "    \n",
    "    plt.legend(['training error', 'test error', 'training error baseline', 'test error baseline'],\\\n",
    "              bbox_to_anchor = (0,-0.2), loc = 3, ncol = 2)\n",
    "\n",
    "plt.show()\n",
    "print('average running time =', total_running_time / len(step_size_list), 's')"
   ]
  },
  {
   "cell_type": "code",
   "execution_count": null,
   "metadata": {},
   "outputs": [],
   "source": [
    "train_iter = 1000000\n",
    "trial_times = 10\n",
    "if test_mode == True:\n",
    "    train_iter = 10000\n",
    "step_size_list =  [0.00005,0.0005, 0.005]\n",
    "plt.figure(figsize=(3*(len(step_size_list)+3.5),(len(step_size_list)+3.5)))\n",
    "\n",
    "total_running_time = 0\n",
    "for i in range(len(step_size_list)):\n",
    "    #for 10 times\n",
    "    running_time = 0\n",
    "    total_training_errors = np.zeros(train_iter+1)\n",
    "    total_test_errors = np.zeros(train_iter//100+1)\n",
    "    \n",
    "    for _ in range(trial_times):\n",
    "        running_start = time.clock()\n",
    "        training_errors, test_errors = SGDTrain(X_train, y_train, step_size_list[i], train_iter,\\\n",
    "                                             NormMSELoss, evaluate = True, lambda_value = 0.05)\n",
    "        running_time += time.clock() - running_start\n",
    "        total_training_errors += training_errors\n",
    "        total_test_errors += test_errors\n",
    "    \n",
    "    total_running_time += running_time / trial_times\n",
    "\n",
    "    x_index1 = list(range(0,train_iter+1,1))\n",
    "    x_index2 = list(range(0,train_iter+1,100))\n",
    "    \n",
    "    plt.subplot(1,len(step_size_list),i+1)\n",
    "    plt.title('step size = ' + str(step_size_list[i]))\n",
    "    plt.xlabel('iteraion')\n",
    "    plt.ylabel('normalized error')\n",
    "    plt.ylim(0,1)\n",
    "    plt.plot(x_index1, total_training_errors/trial_times)\n",
    "    plt.plot(x_index2, total_test_errors/trial_times)\n",
    "    \n",
    "    #draw base line\n",
    "    global training_error_base, test_error_base\n",
    "    plt.plot(x_index1, training_error_base_dic[0.05] * np.ones(len(x_index1)))\n",
    "    plt.plot(x_index2, test_error_base_dic[0.05] * np.ones(len(x_index2)))\n",
    "    \n",
    "    plt.legend(['training error', 'test error', 'training error baseline', 'test error baseline'],\\\n",
    "              bbox_to_anchor = (0,-0.2), loc = 3, ncol = 2)\n",
    "\n",
    "plt.show()\n",
    "print('average running time =', total_running_time / len(step_size_list), 's')"
   ]
  },
  {
   "cell_type": "markdown",
   "metadata": {},
   "source": [
    "<font color=\"blue\">\n",
    "    As to different step size, when the step size increasing, the oscillation amplitude of the object function becomes larger, but convergence faster. The model show more and more preference to sum of square error when step size becomes larger. \n",
    "\n",
    "The plot corresond to the intuition that a learning algorithm starts to overfit when the training error becomes too small. Intuitively, the training error should not be less than the noise level of true model. If the training error is less than the noise level, it reveals that the model is not in accord with the true distribution of the data sample with noise. In other perspective, it is overfitting with the training sample. \n",
    "\n",
    "In this situation, generalized item $l_2$ act as a role to control the total error. The larger the value of $\\lambda$, the severer conflict between sum of square item error and generalized item error. The conflict scale could be visualized as oscillation amplitute of the object function.We test $\\lambda=0.5$ and $\\lambda=0.05$ . We found $\\lambda=0.05$ get lower error on both training and testing set, which shows it has the better generalization ability\n"
   ]
  },
  {
   "cell_type": "markdown",
   "metadata": {},
   "source": [
    "### (e) (4 points) We will now examine the effect of the starting point on the SGD solution. Fixing the step size at 0.00005 and the maximum number of iterations at 1,000,000, choose the initial point randomly from the d-dimensional sphere with radius $r = {0, 0.1, 0.5, 1, 10, 20, 30}$, and plot the average normalized training error and the average normalized test error over 10 iterations vs $r$. Comment on the results, in relation to the results from part (b) where you explored different $l_2$ regularization coefficients. Can you provide an explanation for the behavior seen in this plot?"
   ]
  },
  {
   "cell_type": "code",
   "execution_count": null,
   "metadata": {
    "scrolled": false
   },
   "outputs": [],
   "source": [
    "train_iter = 1000000\n",
    "trial_times = 10\n",
    "test_mode = False\n",
    "if test_mode == True:\n",
    "    train_iter = 10000\n",
    "radius_list =  [0,0.1,0.5,1,10,20,30]\n",
    "plt.figure(figsize=(3*(len(step_size_list)+5),3*(len(step_size_list)+6)))\n",
    "total_running_time = 0\n",
    "print(\"begin\")\n",
    "for i in range(len(radius_list)):\n",
    "   #for 10 times\n",
    "    running_time = 0\n",
    "    total_training_errors = np.zeros(train_iter+1)\n",
    "    total_test_errors = np.zeros(train_iter//100+1)\n",
    "    \n",
    "    for _ in range(trial_times):\n",
    "        running_start = time.clock()\n",
    "        training_errors, test_errors = SGDTrain(X_train, y_train, 0.00005, train_iter,\\\n",
    "                                             NormMSELoss, evaluate = True, lambda_value = 0.05,\\\n",
    "                                               random_radius = radius_list[i])\n",
    "        running_time += time.clock() - running_start\n",
    "        total_training_errors += training_errors\n",
    "        total_test_errors += test_errors\n",
    "    \n",
    "    total_running_time += running_time / trial_times\n",
    "\n",
    "    x_index1 = list(range(0,train_iter+1,1))\n",
    "    x_index2 = list(range(0,train_iter+1,100))\n",
    "    \n",
    "    plt.subplot(3,len(radius_list) // 3 + 1,i+1)\n",
    "    plt.title('random radius = ' + str(radius_list[i]))\n",
    "    plt.xlabel('iteraion')\n",
    "    plt.ylabel('normalized error')\n",
    "    plt.ylim(0, 2)\n",
    "\n",
    "    plt.plot(x_index1, total_training_errors/trial_times)\n",
    "    plt.plot(x_index2, total_test_errors/trial_times)\n",
    "    \n",
    "    #draw base line\n",
    "    global training_error_base, test_error_base\n",
    "    plt.plot(x_index1, training_error_base_dic[0.05] * np.ones(len(x_index1)))\n",
    "    plt.plot(x_index2, test_error_base_dic[0.05] * np.ones(len(x_index2)))\n",
    "    \n",
    "    plt.legend(['training error', 'test error', 'training error baseline', 'test error baseline'],\\\n",
    "              bbox_to_anchor = (0,-0.175), loc = 3, ncol = 2)\n",
    "\n",
    "plt.show()\n",
    "print('average running time =', total_running_time / len(radius_list), 's')"
   ]
  },
  {
   "cell_type": "markdown",
   "metadata": {},
   "source": [
    "<font color=\"blue\">We can see that the final solution of different initial point is similar, but the convergence speed is different. Because $a$ obeys Gauss distribution with a mean value of 0, $a$ is near 0 vector. When we initial the point close to 0, it would converge faster than we use initial point with a  larger radius sphere.</font>\n",
    "\n"
   ]
  },
  {
   "cell_type": "markdown",
   "metadata": {},
   "source": [
    "# Part3\n",
    "### We will now examine the setting where $d > n$. Choose $d = 200$ and $n = 100$. Use the following Python code for generating the training data and test data."
   ]
  },
  {
   "cell_type": "code",
   "execution_count": 17,
   "metadata": {},
   "outputs": [],
   "source": [
    "train_n = 100\n",
    "test_n = 10000\n",
    "d = 200\n",
    "X_train = np.random.normal(0,1, size=(train_n,d))\n",
    "a_true = np.random.normal(0,1, size=(d,1))\n",
    "y_train = X_train.dot(a_true) + np.random.normal(0,0.5,size=(train_n,1))\n",
    "X_test = np.random.normal(0,1, size=(test_n,d))\n",
    "y_test = X_test.dot(a_true) + np.random.normal(0,0.5,size=(test_n,1))"
   ]
  },
  {
   "cell_type": "markdown",
   "metadata": {},
   "source": [
    "### (a) (11 points: 4 for performance, 7 for analysis and discussion) The goal of this problem is to achieve the best test error that you can, using the techniques from the previous two parts and/or by other means. (Of course, your learning algorithm can only use the training data for this purpose, and cannot refer to a_true.) You will receive credit based on your accuracy. Report the average test error you obtain, averaged over 1000 trials (where you re-pick a_true and the data in each trial). Feel free to use regularization, SGD, gradient descent, or any other algorithm you want to try, but clearly describe the algorithm you use in human-readable pseudo-code. Briefly discuss the approach you used, your thought process that informed your decisions, and the extent to which you believe a better test error is achievable. Your score will be based on a combination of the short discussion and the average test error you obtain. A paragraph of analysis is enough to earn full credit—don’t go overboard unless you really want to."
   ]
  },
  {
   "cell_type": "markdown",
   "metadata": {},
   "source": [
    "<font color = \"blue\">From the experiment of part 1 and part 2, we find step size of 0.0005 is the fastest stable step size for SGD training, so we choose step size=0.0005. We can see from part 1 that GD have the lower error than SGD, and the training data size is small, so we can combine thiese two algorithm together to train the data by using larger batch size. We use regularization to alleviate overfitting and set the initial point in random raidus of 0."
   ]
  },
  {
   "cell_type": "code",
   "execution_count": null,
   "metadata": {},
   "outputs": [],
   "source": [
    "train_iter = 300000\n",
    "trial_times = 10\n",
    "batch_size_list = [1, 10, 100]\n",
    "plt.figure(figsize=(3*(len(batch_size_list)+3.5),(2*len(batch_size_list)+3.5)))\n",
    "total_running_time = 0\n",
    "for i in range(len(batch_size_list)):\n",
    "    #for 10 times\n",
    "    running_time = 0\n",
    "    total_training_errors = np.zeros(train_iter+1)\n",
    "    total_test_errors = np.zeros(train_iter//100+1)\n",
    "    \n",
    "    for _ in range(trial_times):\n",
    "        running_start = time.clock()\n",
    "        training_errors, test_errors = SGDTrain(X_train, y_train, 0.0005, train_iter,\\\n",
    "                                                 NormMSELoss, batch_size=batch_size_list[i], evaluate = True, lambda_value = 0.005)\n",
    "        running_time += time.clock() - running_start\n",
    "        total_training_errors += training_errors\n",
    "        total_test_errors += test_errors\n",
    "    \n",
    "    total_running_time += running_time / trial_times\n",
    "\n",
    "    x_index1 = list(range(0,train_iter+1,1))\n",
    "    x_index2 = list(range(0,train_iter+1,100))\n",
    "    \n",
    "    plt.subplot(2, 3,i+1)\n",
    "    plt.title('batch size = ' + str(batch_size_list[i]))\n",
    "    plt.xlabel('iteraion')\n",
    "    plt.ylabel('normalized error')\n",
    "    plt.plot(x_index1, total_training_errors/trial_times)\n",
    "    plt.plot(x_index2, total_test_errors/trial_times)\n",
    "    print(\"batch size: %3d; final testing error: %lf; final training error: %lf  \" % (batch_size_list[i], total_test_errors[-1]/trial_times, total_training_errors[-1]/trial_times))\n",
    "    plt.legend(['training error', 'test error'],\\\n",
    "              bbox_to_anchor = (0,-0.2), loc = 3, ncol = 2)\n",
    "\n",
    "plt.show()\n",
    "print('average running time =', total_running_time / len(batch_size_list), 's')"
   ]
  }
 ],
 "metadata": {
  "kernelspec": {
   "display_name": "Python 3",
   "language": "python",
   "name": "python3"
  },
  "language_info": {
   "codemirror_mode": {
    "name": "ipython",
    "version": 3
   },
   "file_extension": ".py",
   "mimetype": "text/x-python",
   "name": "python",
   "nbconvert_exporter": "python",
   "pygments_lexer": "ipython3",
   "version": "3.6.6"
  }
 },
 "nbformat": 4,
 "nbformat_minor": 2
}
